{
 "cells": [
  {
   "cell_type": "code",
   "execution_count": 3,
   "metadata": {},
   "outputs": [],
   "source": [
    "import pandas as pd\n",
    "import numpy as np\n",
    "import os\n",
    "PROJECT_DIR = '/home/shuang/projects/eqtm'"
   ]
  },
  {
   "cell_type": "code",
   "execution_count": 4,
   "metadata": {},
   "outputs": [],
   "source": [
    "data_path = os.path.join(PROJECT_DIR,'mj_data','Anno_Value_Direction.csv')\n",
    "data_table = pd.read_csv(data_path,sep='\\t')"
   ]
  },
  {
   "cell_type": "code",
   "execution_count": 5,
   "metadata": {},
   "outputs": [
    {
     "data": {
      "text/plain": [
       "(75259, 359)"
      ]
     },
     "execution_count": 5,
     "metadata": {},
     "output_type": "execute_result"
    }
   ],
   "source": [
    "data_table.shape"
   ]
  },
  {
   "cell_type": "code",
   "execution_count": 6,
   "metadata": {
    "scrolled": false
   },
   "outputs": [
    {
     "name": "stdout",
     "output_type": "stream",
     "text": [
      "['HT12v4.ArrayAddress' 'Platform' 'Gene' 'Chr' 'ChrStart']\n",
      "['ChrEnd' 'Probe' 'Seq' 'Infinium_Design_Type' 'UCSC_CpG_Islands_Name']\n",
      "['Relation_to_UCSC_CpG_Island' 'In.Gene...Not.in.gene'\n",
      " 'Distance.In.Gene.or.Closest.Downstream.Gene'\n",
      " 'Bases.to.start.of.transctript' 'Bases.to.stop.of.transctript']\n",
      "['Position1' 'Position2' 'GeneCentric' 'CGICentric' 'ChromatinState_E001']\n",
      "['ChromatinState_E002' 'ChromatinState_E003' 'ChromatinState_E004'\n",
      " 'ChromatinState_E005' 'ChromatinState_E006']\n",
      "['ChromatinState_E007' 'ChromatinState_E008' 'ChromatinState_E009'\n",
      " 'ChromatinState_E010' 'ChromatinState_E011']\n",
      "['ChromatinState_E012' 'ChromatinState_E013' 'ChromatinState_E014'\n",
      " 'ChromatinState_E015' 'ChromatinState_E016']\n",
      "['ChromatinState_E017' 'ChromatinState_E018' 'ChromatinState_E019'\n",
      " 'ChromatinState_E020' 'ChromatinState_E021']\n",
      "['ChromatinState_E022' 'ChromatinState_E023' 'ChromatinState_E024'\n",
      " 'ChromatinState_E025' 'ChromatinState_E026']\n",
      "['ChromatinState_E027' 'ChromatinState_E028' 'ChromatinState_E029'\n",
      " 'ChromatinState_E030' 'ChromatinState_E031']\n",
      "['ChromatinState_E032' 'ChromatinState_E033' 'ChromatinState_E034'\n",
      " 'ChromatinState_E035' 'ChromatinState_E036']\n",
      "['ChromatinState_E037' 'ChromatinState_E038' 'ChromatinState_E039'\n",
      " 'ChromatinState_E040' 'ChromatinState_E041']\n",
      "['ChromatinState_E042' 'ChromatinState_E043' 'ChromatinState_E044'\n",
      " 'ChromatinState_E045' 'ChromatinState_E046']\n",
      "['ChromatinState_E047' 'ChromatinState_E048' 'ChromatinState_E049'\n",
      " 'ChromatinState_E050' 'ChromatinState_E051']\n",
      "['ChromatinState_E052' 'ChromatinState_E053' 'ChromatinState_E054'\n",
      " 'ChromatinState_E055' 'ChromatinState_E056']\n",
      "['ChromatinState_E057' 'ChromatinState_E058' 'ChromatinState_E059'\n",
      " 'ChromatinState_E061' 'ChromatinState_E062']\n",
      "['ChromatinState_E063' 'ChromatinState_E065' 'ChromatinState_E066'\n",
      " 'ChromatinState_E067' 'ChromatinState_E068']\n",
      "['ChromatinState_E069' 'ChromatinState_E070' 'ChromatinState_E071'\n",
      " 'ChromatinState_E072' 'ChromatinState_E073']\n",
      "['ChromatinState_E074' 'ChromatinState_E075' 'ChromatinState_E076'\n",
      " 'ChromatinState_E077' 'ChromatinState_E078']\n",
      "['ChromatinState_E079' 'ChromatinState_E080' 'ChromatinState_E081'\n",
      " 'ChromatinState_E082' 'ChromatinState_E083']\n",
      "['ChromatinState_E084' 'ChromatinState_E085' 'ChromatinState_E086'\n",
      " 'ChromatinState_E087' 'ChromatinState_E088']\n",
      "['ChromatinState_E089' 'ChromatinState_E090' 'ChromatinState_E091'\n",
      " 'ChromatinState_E092' 'ChromatinState_E093']\n",
      "['ChromatinState_E094' 'ChromatinState_E095' 'ChromatinState_E096'\n",
      " 'ChromatinState_E097' 'ChromatinState_E098']\n",
      "['ChromatinState_E099' 'ChromatinState_E100' 'ChromatinState_E101'\n",
      " 'ChromatinState_E102' 'ChromatinState_E103']\n",
      "['ChromatinState_E104' 'ChromatinState_E105' 'ChromatinState_E106'\n",
      " 'ChromatinState_E107' 'ChromatinState_E108']\n",
      "['ChromatinState_E109' 'ChromatinState_E110' 'ChromatinState_E111'\n",
      " 'ChromatinState_E112' 'ChromatinState_E113']\n",
      "['ChromatinState_E114' 'ChromatinState_E115' 'ChromatinState_E116'\n",
      " 'ChromatinState_E117' 'ChromatinState_E118']\n",
      "['ChromatinState_E119' 'ChromatinState_E120' 'ChromatinState_E121'\n",
      " 'ChromatinState_E122' 'ChromatinState_E123']\n",
      "['ChromatinState_E124' 'ChromatinState_E125' 'ChromatinState_E126'\n",
      " 'ChromatinState_E127' 'ChromatinState_E128']\n",
      "['ChromatinState_E129' 'HistoneMarks_E029' 'HistoneMarks_E030'\n",
      " 'HistoneMarks_E031' 'HistoneMarks_E032']\n",
      "['HistoneMarks_E033' 'HistoneMarks_E034' 'HistoneMarks_E035'\n",
      " 'HistoneMarks_E036' 'HistoneMarks_E037']\n",
      "['HistoneMarks_E038' 'HistoneMarks_E039' 'HistoneMarks_E040'\n",
      " 'HistoneMarks_E041' 'HistoneMarks_E042']\n",
      "['HistoneMarks_E043' 'HistoneMarks_E044' 'HistoneMarks_E045'\n",
      " 'HistoneMarks_E046' 'HistoneMarks_E047']\n",
      "['HistoneMarks_E048' 'HistoneMarks_E050' 'HistoneMarks_E051'\n",
      " 'HistoneMarks_E062' 'HistoneMarks_E096']\n",
      "['HistoneMarks_E115' 'HistoneMarks_E116' 'HistoneMarks_E123'\n",
      " 'HistoneMarks_E124' 'NearestSNP']\n",
      "['DistanceToNearestSNP' 'PValueOfNearestSNP' 'NumberOfSNPsInWindow'\n",
      " 'Chromosome' 'Majority_Blood_ChromatinState']\n",
      "['X._Active_TSS' 'X._Bivalent_Enhancer' 'X._Bivalent.Poised_TSS'\n",
      " 'X._Enhancers' 'X._Flanking_Active_TSS']\n",
      "['X._Flanking_Bivalent_TSS.Enh' 'X._Genic_enhancers' 'X._Heterochromatin'\n",
      " 'X._Quiescent.Low' 'X._Repressed_PolyComb']\n",
      "['X._Strong_transcription' 'X._Transcribed_at_gene_5_and_3'\n",
      " 'X._Weak_transcription' 'X._ZNF_genes_and_repeats'\n",
      " 'Majority_Blood_HistoneMark']\n",
      "['X._H3K27me3' 'X._H3K36me3' 'X._H3K9me3' 'X._H3K4me1' 'X._H3K4me3']\n",
      "['MeanMethylation' 'MedianMethylation' 'VarianceMethylation'\n",
      " 'SDMethylation' 'TFBS']\n",
      "['MeanMethylationMValue' 'MedianMethylationMValue'\n",
      " 'VarianceMethylationMValue' 'SDMethylationMValue' 'ConservationScore']\n",
      "['HistoneMarks_gappedPeaks_E029' 'HistoneMarks_gappedPeaks_E030'\n",
      " 'HistoneMarks_gappedPeaks_E031' 'HistoneMarks_gappedPeaks_E032'\n",
      " 'HistoneMarks_gappedPeaks_E033']\n",
      "['HistoneMarks_gappedPeaks_E034' 'HistoneMarks_gappedPeaks_E035'\n",
      " 'HistoneMarks_gappedPeaks_E036' 'HistoneMarks_gappedPeaks_E037'\n",
      " 'HistoneMarks_gappedPeaks_E038']\n",
      "['HistoneMarks_gappedPeaks_E039' 'HistoneMarks_gappedPeaks_E040'\n",
      " 'HistoneMarks_gappedPeaks_E041' 'HistoneMarks_gappedPeaks_E042'\n",
      " 'HistoneMarks_gappedPeaks_E043']\n",
      "['HistoneMarks_gappedPeaks_E044' 'HistoneMarks_gappedPeaks_E045'\n",
      " 'HistoneMarks_gappedPeaks_E046' 'HistoneMarks_gappedPeaks_E047'\n",
      " 'HistoneMarks_gappedPeaks_E048']\n",
      "['HistoneMarks_gappedPeaks_E050' 'HistoneMarks_gappedPeaks_E051'\n",
      " 'HistoneMarks_gappedPeaks_E062' 'HistoneMarks_gappedPeaks_E115'\n",
      " 'HistoneMarks_gappedPeaks_E116']\n",
      "['HistoneMarks_gappedPeaks_E123' 'HistoneMarks_gappedPeaks_E124'\n",
      " 'HistoneMarks_gappedPeaks_E029_Imputed'\n",
      " 'HistoneMarks_gappedPeaks_E030_Imputed'\n",
      " 'HistoneMarks_gappedPeaks_E031_Imputed']\n",
      "['HistoneMarks_gappedPeaks_E032_Imputed'\n",
      " 'HistoneMarks_gappedPeaks_E033_Imputed'\n",
      " 'HistoneMarks_gappedPeaks_E034_Imputed'\n",
      " 'HistoneMarks_gappedPeaks_E035_Imputed'\n",
      " 'HistoneMarks_gappedPeaks_E036_Imputed']\n",
      "['HistoneMarks_gappedPeaks_E037_Imputed'\n",
      " 'HistoneMarks_gappedPeaks_E038_Imputed'\n",
      " 'HistoneMarks_gappedPeaks_E039_Imputed'\n",
      " 'HistoneMarks_gappedPeaks_E040_Imputed'\n",
      " 'HistoneMarks_gappedPeaks_E041_Imputed']\n",
      "['HistoneMarks_gappedPeaks_E042_Imputed'\n",
      " 'HistoneMarks_gappedPeaks_E043_Imputed'\n",
      " 'HistoneMarks_gappedPeaks_E044_Imputed'\n",
      " 'HistoneMarks_gappedPeaks_E045_Imputed'\n",
      " 'HistoneMarks_gappedPeaks_E046_Imputed']\n",
      "['HistoneMarks_gappedPeaks_E047_Imputed'\n",
      " 'HistoneMarks_gappedPeaks_E048_Imputed'\n",
      " 'HistoneMarks_gappedPeaks_E050_Imputed'\n",
      " 'HistoneMarks_gappedPeaks_E051_Imputed'\n",
      " 'HistoneMarks_gappedPeaks_E062_Imputed']\n",
      "['HistoneMarks_gappedPeaks_E115_Imputed'\n",
      " 'HistoneMarks_gappedPeaks_E116_Imputed'\n",
      " 'HistoneMarks_gappedPeaks_E123_Imputed'\n",
      " 'HistoneMarks_gappedPeaks_E124_Imputed' 'DNaseImputedGappedPeak_E029']\n",
      "['DNaseImputedGappedPeak_E030' 'DNaseImputedGappedPeak_E031'\n",
      " 'DNaseImputedGappedPeak_E032' 'DNaseImputedGappedPeak_E033'\n",
      " 'DNaseImputedGappedPeak_E034']\n",
      "['DNaseImputedGappedPeak_E035' 'DNaseImputedGappedPeak_E036'\n",
      " 'DNaseImputedGappedPeak_E037' 'DNaseImputedGappedPeak_E038'\n",
      " 'DNaseImputedGappedPeak_E039']\n",
      "['DNaseImputedGappedPeak_E040' 'DNaseImputedGappedPeak_E041'\n",
      " 'DNaseImputedGappedPeak_E042' 'DNaseImputedGappedPeak_E043'\n",
      " 'DNaseImputedGappedPeak_E044']\n",
      "['DNaseImputedGappedPeak_E045' 'DNaseImputedGappedPeak_E046'\n",
      " 'DNaseImputedGappedPeak_E047' 'DNaseImputedGappedPeak_E048'\n",
      " 'DNaseImputedGappedPeak_E050']\n",
      "['DNaseImputedGappedPeak_E051' 'DNaseImputedGappedPeak_E062'\n",
      " 'DNaseImputedGappedPeak_E115' 'DNaseImputedGappedPeak_E116'\n",
      " 'DNaseImputedGappedPeak_E123']\n",
      "['DNaseImputedGappedPeak_E124'\n",
      " 'Majority_Blood_HistoneMark_imputed_gappedPeaks'\n",
      " 'X._H2A.Z_imputed_gappedPeaks' 'X._H2AK5ac_imputed_gappedPeaks'\n",
      " 'X._H2AK9ac_imputed_gappedPeaks']\n",
      "['X._H2BK120ac_imputed_gappedPeaks' 'X._H2BK12ac_imputed_gappedPeaks'\n",
      " 'X._H2BK5ac_imputed_gappedPeaks' 'X._H3K14ac_imputed_gappedPeaks'\n",
      " 'X._H3K18ac_imputed_gappedPeaks']\n",
      "['X._H3K23ac_imputed_gappedPeaks' 'X._H3K23me2_imputed_gappedPeaks'\n",
      " 'X._H3K27ac_imputed_gappedPeaks' 'X._H3K4ac_imputed_gappedPeaks'\n",
      " 'X._H3K4me1_imputed_gappedPeaks']\n",
      "['X._H3K4me2_imputed_gappedPeaks' 'X._H3K4me3_imputed_gappedPeaks'\n",
      " 'X._H3K79me1_imputed_gappedPeaks' 'X._H3K79me2_imputed_gappedPeaks'\n",
      " 'X._H3K9ac_imputed_gappedPeaks']\n",
      "['X._H3T11ph_imputed_gappedPeaks' 'X._H4K12ac_imputed_gappedPeaks'\n",
      " 'X._H4K5ac_imputed_gappedPeaks' 'X._H4K8ac_imputed_gappedPeaks'\n",
      " 'X._H4K91ac_imputed_gappedPeaks']\n",
      "['X._H3K36me3_imputed_gappedPeaks' 'X._H3K9me3_imputed_gappedPeaks'\n",
      " 'X._H4K20me1_imputed_gappedPeaks' 'X._H3K27me3_imputed_gappedPeaks'\n",
      " 'X._H3K56ac_imputed_gappedPeaks']\n",
      "['X._H2BK15ac_imputed_gappedPeaks' 'X._H2BK20ac_imputed_gappedPeaks'\n",
      " 'X._H3K9me1_imputed_gappedPeaks' 'Majority_Blood_HistoneMark_gapedPeaks'\n",
      " 'X._H3K27me3_gapedPeaks']\n",
      "['X._H3K36me3_gapedPeaks' 'X._H3K9me3_gapedPeaks' 'X._H3K4me1_gapedPeaks'\n",
      " 'X._H3K4me3_gapedPeaks' 'X._H3K27ac_gapedPeaks']\n",
      "['DNaseImputedGappedPeak_E029.1' 'DNaseImputedGappedPeak_E030.1'\n",
      " 'DNaseImputedGappedPeak_E031.1' 'DNaseImputedGappedPeak_E032.1'\n",
      " 'DNaseImputedGappedPeak_E033.1']\n",
      "['DNaseImputedGappedPeak_E034.1' 'DNaseImputedGappedPeak_E035.1'\n",
      " 'DNaseImputedGappedPeak_E036.1' 'DNaseImputedGappedPeak_E037.1'\n",
      " 'DNaseImputedGappedPeak_E038.1']\n",
      "['DNaseImputedGappedPeak_E039.1' 'DNaseImputedGappedPeak_E040.1'\n",
      " 'DNaseImputedGappedPeak_E041.1' 'DNaseImputedGappedPeak_E042.1'\n",
      " 'DNaseImputedGappedPeak_E043.1']\n",
      "['DNaseImputedGappedPeak_E044.1' 'DNaseImputedGappedPeak_E045.1'\n",
      " 'DNaseImputedGappedPeak_E046.1' 'DNaseImputedGappedPeak_E047.1'\n",
      " 'DNaseImputedGappedPeak_E048.1']\n",
      "['DNaseImputedGappedPeak_E050.1' 'DNaseImputedGappedPeak_E051.1'\n",
      " 'DNaseImputedGappedPeak_E062.1' 'DNaseImputedGappedPeak_E115.1'\n",
      " 'DNaseImputedGappedPeak_E116.1']\n",
      "['DNaseImputedGappedPeak_E123.1' 'DNaseImputedGappedPeak_E124.1'\n",
      " '%_DNASE_Hyper_Sensitive_Sites_Blood' 'zscore']\n"
     ]
    }
   ],
   "source": [
    "# display all column names\n",
    "for i in range(0,data_table.shape[1],5):\n",
    "    print(data_table.columns[i:i+5].values)"
   ]
  },
  {
   "cell_type": "code",
   "execution_count": 7,
   "metadata": {},
   "outputs": [
    {
     "name": "stdout",
     "output_type": "stream",
     "text": [
      "Gene 3064\n",
      "UCSC_CpG_Islands_Name 29272\n",
      "Relation_to_UCSC_CpG_Island 29272\n",
      "HistoneMarks_E029 5444\n",
      "HistoneMarks_E030 12359\n",
      "HistoneMarks_E031 15367\n",
      "HistoneMarks_E032 6700\n",
      "HistoneMarks_E033 12529\n",
      "HistoneMarks_E034 4589\n",
      "HistoneMarks_E035 13736\n",
      "HistoneMarks_E036 4832\n",
      "HistoneMarks_E037 6066\n",
      "HistoneMarks_E038 7965\n",
      "HistoneMarks_E039 5815\n",
      "HistoneMarks_E040 10462\n",
      "HistoneMarks_E041 5596\n",
      "HistoneMarks_E042 3966\n",
      "HistoneMarks_E043 6284\n",
      "HistoneMarks_E044 8126\n",
      "HistoneMarks_E045 7831\n",
      "HistoneMarks_E046 5613\n",
      "HistoneMarks_E047 5057\n",
      "HistoneMarks_E048 7480\n",
      "HistoneMarks_E050 3519\n",
      "HistoneMarks_E051 6417\n",
      "HistoneMarks_E062 1026\n",
      "HistoneMarks_E096 3081\n",
      "HistoneMarks_E115 5619\n",
      "HistoneMarks_E116 4875\n",
      "HistoneMarks_E123 6901\n",
      "HistoneMarks_E124 5274\n",
      "NearestSNP 653\n",
      "DistanceToNearestSNP 653\n",
      "PValueOfNearestSNP 653\n",
      "NumberOfSNPsInWindow 653\n",
      "Chromosome 653\n",
      "Majority_Blood_HistoneMark 3\n",
      "TFBS 67376\n",
      "ConservationScore 5204\n",
      "HistoneMarks_gappedPeaks_E029 14638\n",
      "HistoneMarks_gappedPeaks_E030 12435\n",
      "HistoneMarks_gappedPeaks_E031 28842\n",
      "HistoneMarks_gappedPeaks_E032 13003\n",
      "HistoneMarks_gappedPeaks_E033 26660\n",
      "HistoneMarks_gappedPeaks_E034 6471\n",
      "HistoneMarks_gappedPeaks_E035 22534\n",
      "HistoneMarks_gappedPeaks_E036 9672\n",
      "HistoneMarks_gappedPeaks_E037 21985\n",
      "HistoneMarks_gappedPeaks_E038 19185\n",
      "HistoneMarks_gappedPeaks_E039 15030\n",
      "HistoneMarks_gappedPeaks_E040 21208\n",
      "HistoneMarks_gappedPeaks_E041 12246\n",
      "HistoneMarks_gappedPeaks_E042 14129\n",
      "HistoneMarks_gappedPeaks_E043 12850\n",
      "HistoneMarks_gappedPeaks_E044 12242\n",
      "HistoneMarks_gappedPeaks_E045 16865\n",
      "HistoneMarks_gappedPeaks_E046 15294\n",
      "HistoneMarks_gappedPeaks_E047 16773\n",
      "HistoneMarks_gappedPeaks_E048 20560\n",
      "HistoneMarks_gappedPeaks_E050 10572\n",
      "HistoneMarks_gappedPeaks_E051 12818\n",
      "HistoneMarks_gappedPeaks_E062 10504\n",
      "HistoneMarks_gappedPeaks_E115 16925\n",
      "HistoneMarks_gappedPeaks_E116 22436\n",
      "HistoneMarks_gappedPeaks_E123 17091\n",
      "HistoneMarks_gappedPeaks_E124 6780\n",
      "HistoneMarks_gappedPeaks_E029_Imputed 10740\n",
      "HistoneMarks_gappedPeaks_E030_Imputed 9207\n",
      "HistoneMarks_gappedPeaks_E031_Imputed 9418\n",
      "HistoneMarks_gappedPeaks_E032_Imputed 12436\n",
      "HistoneMarks_gappedPeaks_E033_Imputed 11257\n",
      "HistoneMarks_gappedPeaks_E034_Imputed 12673\n",
      "HistoneMarks_gappedPeaks_E035_Imputed 35765\n",
      "HistoneMarks_gappedPeaks_E036_Imputed 9529\n",
      "HistoneMarks_gappedPeaks_E037_Imputed 13693\n",
      "HistoneMarks_gappedPeaks_E038_Imputed 13305\n",
      "HistoneMarks_gappedPeaks_E039_Imputed 12855\n",
      "HistoneMarks_gappedPeaks_E040_Imputed 14347\n",
      "HistoneMarks_gappedPeaks_E041_Imputed 14394\n",
      "HistoneMarks_gappedPeaks_E042_Imputed 13143\n",
      "HistoneMarks_gappedPeaks_E043_Imputed 13406\n",
      "HistoneMarks_gappedPeaks_E044_Imputed 12805\n",
      "HistoneMarks_gappedPeaks_E045_Imputed 12525\n",
      "HistoneMarks_gappedPeaks_E046_Imputed 12118\n",
      "HistoneMarks_gappedPeaks_E047_Imputed 13466\n",
      "HistoneMarks_gappedPeaks_E048_Imputed 13815\n",
      "HistoneMarks_gappedPeaks_E050_Imputed 9914\n",
      "HistoneMarks_gappedPeaks_E051_Imputed 10615\n",
      "HistoneMarks_gappedPeaks_E062_Imputed 10737\n",
      "HistoneMarks_gappedPeaks_E115_Imputed 13124\n",
      "HistoneMarks_gappedPeaks_E116_Imputed 11738\n",
      "HistoneMarks_gappedPeaks_E123_Imputed 9854\n",
      "HistoneMarks_gappedPeaks_E124_Imputed 11673\n",
      "Majority_Blood_HistoneMark_imputed_gappedPeaks 12722\n",
      "Majority_Blood_HistoneMark_gapedPeaks 112\n"
     ]
    }
   ],
   "source": [
    "for col in data_table.columns:\n",
    "    null = data_table[col].isnull().sum()\n",
    "    if null > 0:\n",
    "        print(col,null)"
   ]
  },
  {
   "cell_type": "code",
   "execution_count": 8,
   "metadata": {},
   "outputs": [],
   "source": [
    "# import matplotlib.pyplot as plt\n",
    "# import seaborn as sns\n",
    "# # check collinearity\n",
    "# corr = dummy_data_scaled.corr(method='spearman')\n",
    "# # Generate a mask for the upper triangle\n",
    "# mask = np.zeros_like(corr, dtype=np.bool)\n",
    "# mask[np.triu_indices_from(mask)] = True\n",
    "# # Set up the matplotlib figure\n",
    "# f, ax = plt.subplots(figsize=(200, 100))\n",
    "\n",
    "# # Generate a custom diverging colormap\n",
    "# cmap = sns.diverging_palette(220, 10, as_cmap=True)\n",
    "\n",
    "# # Draw the heatmap with the mask and correct aspect ratio\n",
    "# sns.heatmap(corr, mask=mask, cmap=cmap, vmax=.3, center=0,\n",
    "#             square=True, linewidths=.5, cbar_kws={\"shrink\": .5})\n",
    "# plt.show()"
   ]
  },
  {
   "cell_type": "code",
   "execution_count": 41,
   "metadata": {},
   "outputs": [],
   "source": [
    "import matplotlib.pyplot as plt\n",
    "% matplotlib inline"
   ]
  },
  {
   "cell_type": "code",
   "execution_count": 55,
   "metadata": {},
   "outputs": [],
   "source": [
    "def hist_compare(datatable_pd, col_name):\n",
    "    '''\n",
    "    compare the column(col_name) value for different classes\n",
    "    in the database(datatable_pd) and plot histograms/bar plot \n",
    "    for the pathogenic and benign class\n",
    "    \n",
    "    currently only support 'Pathogenic' and 'Benign' classes\n",
    "    no legend in the plot\n",
    "    '''\n",
    "    col = datatable_pd[col_name]\n",
    "    col_patho = col[datatable_pd['zscore'] > 0]\n",
    "    col_benig = col[datatable_pd['zscore'] < 0]\n",
    "    if datatable_pd[col_name].dtype == np.object:\n",
    "        x = datatable_pd[col_name].unique()\n",
    "        y_path = []\n",
    "        y_beni = []\n",
    "        for name in x:\n",
    "            y_name = datatable_pd['INFO'][datatable_pd[col_name]==name]\n",
    "            y_path.append(y_name[y_name=='Pathogenic'].count())\n",
    "            y_beni.append(y_name[y_name=='Benign'].count())\n",
    "        plt.bar(x,y_path,alpha=0.5)\n",
    "        plt.bar(x,y_beni,alpha=0.5)\n",
    "    else:\n",
    "        n,bins,patches = plt.hist(col_patho,25,alpha=0.5)\n",
    "        n,bins,patches = plt.hist(col_benig,25,alpha=0.5)\n",
    "    plt.show()"
   ]
  },
  {
   "cell_type": "code",
   "execution_count": 56,
   "metadata": {},
   "outputs": [
    {
     "data": {
      "image/png": "[encoded data removed]",
      "text/plain": [
       "<matplotlib.figure.Figure at 0x7fb7ac0db748>"
      ]
     },
     "metadata": {},
     "output_type": "display_data"
    }
   ],
   "source": [
    "hist_compare(data_table,'X._H3K27ac_imputed_gappedPeaks')\n",
    "# plt.hist(data_table['X._H3K27ac_imputed_gappedPeaks'])"
   ]
  },
  {
   "cell_type": "code",
   "execution_count": 83,
   "metadata": {},
   "outputs": [
    {
     "data": {
      "text/plain": [
       "[<matplotlib.lines.Line2D at 0x7fb7a8299ba8>]"
      ]
     },
     "execution_count": 83,
     "metadata": {},
     "output_type": "execute_result"
    },
    {
     "data": {
      "image/png": "[encoded data removed]",
      "text/plain": [
       "<matplotlib.figure.Figure at 0x7fb7ab066940>"
      ]
     },
     "metadata": {},
     "output_type": "display_data"
    }
   ],
   "source": [
    "# tried to scale it but no it still inconsistent from the paper\n",
    "col = data_table['X._H3K27ac_imputed_gappedPeaks']\n",
    "col_patho = col[data_table['zscore'] < 0]\n",
    "# print(data_table[['X._H3K27ac_imputed_gappedPeaks','zscore']].loc[data_table['zscore']<0])\n",
    "col_benig = col[data_table['zscore'] > 0]\n",
    "\n",
    "n_1, bins_1 = np.histogram(col_patho, bins=24)\n",
    "# print(len(n),len(bins))\n",
    "n_1 = n_1 * len(col_benig)/len(col_patho)\n",
    "plt.plot(bins_1[1:],n_1)\n",
    "n_2, bins_2 = np.histogram(col_benig, bins=24)\n",
    "# print(len(n),len(bins))\n",
    "plt.plot(bins_2[1:],n_2)"
   ]
  },
  {
   "cell_type": "code",
   "execution_count": 9,
   "metadata": {},
   "outputs": [],
   "source": [
    "from sklearn.linear_model import ElasticNet\n"
   ]
  },
  {
   "cell_type": "code",
   "execution_count": 11,
   "metadata": {},
   "outputs": [
    {
     "data": {
      "text/plain": [
       "(75259, 359)"
      ]
     },
     "execution_count": 11,
     "metadata": {},
     "output_type": "execute_result"
    }
   ],
   "source": [
    "data_table.shape"
   ]
  },
  {
   "cell_type": "code",
   "execution_count": null,
   "metadata": {},
   "outputs": [],
   "source": [
    "model = ElasticNet()\n"
   ]
  }
 ],
 "metadata": {
  "kernelspec": {
   "display_name": "Python 3",
   "language": "python",
   "name": "python3"
  },
  "language_info": {
   "codemirror_mode": {
    "name": "ipython",
    "version": 3
   },
   "file_extension": ".py",
   "mimetype": "text/x-python",
   "name": "python",
   "nbconvert_exporter": "python",
   "pygments_lexer": "ipython3",
   "version": "3.6.3"
  }
 },
 "nbformat": 4,
 "nbformat_minor": 2
}
