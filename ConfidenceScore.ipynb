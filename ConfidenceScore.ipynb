{
 "cells": [
  {
   "cell_type": "code",
   "execution_count": 1,
   "metadata": {},
   "outputs": [],
   "source": [
    "import numpy as np\n",
    "import pandas as pd\n",
    "import pickle\n",
    "import os\n",
    "from lib.read.read_data import dataset,Datasets,readDataWithRawScore\n",
    "from math import copysign\n",
    "\n",
    "from sklearn.model_selection import train_test_split\n",
    "from sklearn.pipeline import Pipeline\n",
    "from sklearn import preprocessing\n",
    "\n",
    "# feature extractors\n",
    "from sklearn.decomposition import PCA\n",
    "# classifiers\n",
    "from sklearn.linear_model import LogisticRegression\n",
    "from sklearn.ensemble import RandomForestClassifier,AdaBoostClassifier\n",
    "# from sklearn.linear_model import ElasticNet\n",
    "from sklearn.svm import SVC\n",
    "from sklearn.neighbors import KNeighborsClassifier\n",
    "from sklearn.gaussian_process import GaussianProcessClassifier\n",
    "from sklearn.tree import DecisionTreeClassifier\n",
    "# finetuning\n",
    "from sklearn.model_selection import GridSearchCV\n",
    "# validation\n",
    "from sklearn import metrics\n",
    "from sklearn.metrics import confusion_matrix\n",
    "\n",
    "# import matplotlib.pyplot as plt\n",
    "# TODO: support matplotlib drawing\n",
    "\n",
    "PROJECT_DIR = '/home/shuang/projects/eqtm'"
   ]
  },
  {
   "cell_type": "code",
   "execution_count": 2,
   "metadata": {},
   "outputs": [],
   "source": [
    "def read_data_set(data_table,test_size=0.25,normalization=True):\n",
    "    '''\n",
    "    convert a pandas dataframe data table into Datasets(dataset,dataset)\n",
    "    '''\n",
    "    train, test = train_test_split(data_table,test_size=0.25)\n",
    "    train_x = train[[col for col in train.columns\n",
    "                     if col not in ['zscore','direction','cpgName']]]\n",
    "    features = train_x.columns\n",
    "    if normalization:\n",
    "        minMaxScaler = preprocessing.MinMaxScaler()\n",
    "        train_x = minMaxScaler.fit_transform(train_x)\n",
    "        test_x = minMaxScaler.fit_transform(test[[col for col in\n",
    "                                                  train.columns\n",
    "                      if col not in ['zscore','direction','cpgName']]])\n",
    "    else:\n",
    "        train_x = np.array(train_x)\n",
    "        test_x = np.array(test[[col for col in train.columns\n",
    "                      if col not in ['zscore','direction','cpgName']]])\n",
    "    train_y = np.array(train['direction'],dtype=np.int8)\n",
    "    test_y = np.array(test['direction'],dtype=np.int8)\n",
    "\n",
    "    return Datasets(train=dataset(train_x,train_y),\n",
    "                    test=dataset(test_x,test_y))\n",
    "\n",
    "def draw_roc_curve(fpr,tpr,score):\n",
    "    '''\n",
    "    draw roc curve\n",
    "    '''\n",
    "    plt.figure()\n",
    "    lw = 2\n",
    "    plt.plot(fpr, tpr, color='darkorange',\n",
    "            lw=lw, label='ROC curve (area = %0.2f)' % score)\n",
    "    plt.plot([0, 1], [0, 1], color='navy', lw=lw, linestyle='--')\n",
    "    plt.xlim([0.0, 1.0])\n",
    "    plt.ylim([0.0, 1.05])\n",
    "    plt.xlabel('False Positive Rate')\n",
    "    plt.ylabel('True Positive Rate')\n",
    "    plt.title('ROC curve')\n",
    "    plt.legend(loc=\"lower right\")\n",
    "    plt.show()\n",
    "\n",
    "def run_display_output(classifier,test,DRAW=False):\n",
    "    '''\n",
    "    get confusion matrix and auc score for test dataset\n",
    "    (optional) draw roc curve\n",
    "    '''\n",
    "    pred = classifier.predict(test.values)\n",
    "    tn, fp, fn, tp = confusion_matrix(test.labels,pred).ravel()#confusion matrix\n",
    "    print(tn,fp,fn,tp)\n",
    "    sensitivity = tp/(fn+tp)\n",
    "    specificity = tn/(fp+tn)\n",
    "    prods = classifier.predict_proba(test.values)[:,1]\n",
    "    fpr, tpr, _ = metrics.roc_curve(test.labels, prods)\n",
    "    score = metrics.auc(fpr,tpr) #auc score\n",
    "    if DRAW:\n",
    "        draw_roc_curve(fpr,tpr,score)\n",
    "\n",
    "    return sensitivity, specificity, score\n",
    "\n",
    "def read_gavin(gavin_res, labels):\n",
    "    '''\n",
    "    compare gavin results with labels for a certain subset of data\n",
    "    '''\n",
    "    gavin_res = gavin_res.replace('Pathogenic',1)\n",
    "    gavin_res = gavin_res.replace('Benign',0)\n",
    "    tn_g, fp_g, fn_g, tp_g = \\\n",
    "    confusion_matrix(labels, gavin_res.astype(np.int8)).ravel()\n",
    "    sensitivity_g = tp_g/(fn_g+tp_g)\n",
    "    specificity_g = tn_g/(fp_g+tn_g)\n",
    "    return sensitivity_g, specificity_g\n",
    "\n",
    "def display_res_gavin_and_best_model(param_grid,pipeline,mvid,\n",
    "filename=None,returnRes = False):\n",
    "    '''\n",
    "    use model defined by pipeline to fit mvid Dataset\n",
    "    gridsearchCV determine the parameters given in param_grid\n",
    "    (optional) save the model in path given in filename\n",
    "    '''\n",
    "    classifier = GridSearchCV(estimator=pipeline,\n",
    "                              param_grid=param_grid)\n",
    "\n",
    "    print('Start training...')\n",
    "    classifier.fit(mvid.train.values,mvid.train.labels)\n",
    "    print('Model Description:\\n',classifier.best_estimator_)\n",
    "    if filename:\n",
    "        pickle.dump(classifier,open(filename,'wb'))\n",
    "        print('Saved model to path:',filename)\n",
    "    sensitivity,specificity,score = run_display_output(classifier,mvid.test)\n",
    "    print('>>> best model results: sensitivity: {:.{prec}}\\tspecificity: {:.{prec}f}\\tauc:{}'.\\\n",
    "    format(sensitivity,specificity,score,prec=3))\n",
    "    if returnRes:\n",
    "        return sensitivity,specificity,score,classifier\n",
    "    return classifier\n",
    "\n",
    "def display_res_gavin_and_elasticnet(param_grid,pipeline,mvid,filename=None):\n",
    "    '''\n",
    "    use model defined by pipeline to fit mvid Dataset\n",
    "    gridsearchCV determine the parameters given in param_grid\n",
    "    (optional) save the model in path given in filename\n",
    "    '''\n",
    "    classifier = GridSearchCV(estimator=pipeline,\n",
    "                              param_grid=param_grid)\n",
    "\n",
    "    print('Start training...')\n",
    "    classifier.fit(mvid.train.values,mvid.train.labels)\n",
    "    print('Model Description:\\n',classifier.best_estimator_)\n",
    "    if filename:\n",
    "        pickle.dump(classifier,open(filename,'wb'))\n",
    "        print('Saved model to path:',filename)\n",
    "    sensitivity,specificity,score = run_display_output_elasticnet(classifier,mvid.test)\n",
    "    print('>>> best model results: sensitivity: {:.{prec}}\\tspecificity: {:.{prec}f}\\tauc:{}'.\\\n",
    "    format(sensitivity,specificity,score,prec=3))\n",
    "    return classifier\n",
    "\n",
    "def load_data(path,exclude,test_size=0.25):\n",
    "        data = pd.read_csv(path,sep=',',index_col=0)\n",
    "        def binarize(row):\n",
    "            if row > 0:\n",
    "                return 1\n",
    "            else:\n",
    "                return 0\n",
    "        data['direction'] = data['zscore'].apply(binarize)\n",
    "        print('Raw data loaded.')\n",
    "        features = [feat for feat in data.columns if feat not in exclude]\n",
    "        dataset = read_data_set(data[features],test_size=test_size)\n",
    "        return dataset"
   ]
  },
  {
   "cell_type": "code",
   "execution_count": 3,
   "metadata": {},
   "outputs": [
    {
     "name": "stdout",
     "output_type": "stream",
     "text": [
      "Raw data loaded.\n",
      "Raw data loaded.\n",
      "Start training...\n",
      "Model Description:\n",
      " Pipeline(memory=None,\n",
      "     steps=[('pca', PCA(copy=True, iterated_power='auto', n_components=12, random_state=None,\n",
      "  svd_solver='auto', tol=0.0, whiten=False)), ('ranfor', RandomForestClassifier(bootstrap=True, class_weight='balanced',\n",
      "            criterion='gini', max_depth=None, max_features='auto',\n",
      "            max_leaf_no...mators=100, n_jobs=1, oob_score=False, random_state=None,\n",
      "            verbose=0, warm_start=False))])\n",
      "3621 762 1269 1462\n",
      ">>> best model results: sensitivity: 0.535\tspecificity: 0.826\tauc:0.7997888967669351\n",
      "1309 126 169 271\n",
      ">>> test on another dataset: sensitivity: 0.616\tspecificity: 0.912\tauc:0.893976084890719\n",
      "Sensitivity: 0.5353350421091175 0.0 0.615909090909091 0.0\n",
      "Specificity: 0.8261464750171116 0.0 0.9121951219512195 0.0\n",
      "AUC: 0.7997888967669351 0.0 0.893976084890719 0.0\n"
     ]
    }
   ],
   "source": [
    "if __name__=='__main__':\n",
    "    # draw zscore against confidence score\n",
    "    data_folder = '/home/shuang/projects/eqtm/data/dataReadyForModeling/overlapRatioTssMeanVar'\n",
    "    et_filepath = os.path.join(data_folder,'etCpG_withZscoreTss_withMeanVar.csv')\n",
    "    gt_filepath = os.path.join(data_folder,'gtCpG_withZscoreTss_withMeanVar.csv')\n",
    "    random_filepath = os.path.join(data_folder,'randomCpG_withZscoreTss_withMeanVar.csv')\n",
    "    exclude = ['cpgName','cpgName_split']\n",
    "    \n",
    "    train_path = gt_filepath\n",
    "    test_path = et_filepath\n",
    "    res = {'sensitivity':[],'specificity':[],'auc':[]}\n",
    "    res2 = {'sensitivity':[],'specificity':[],'auc':[]}\n",
    "    for i in range(1):\n",
    "        eqtm_data = load_data(train_path,exclude=exclude)\n",
    "        test_data = load_data(test_path,exclude=exclude,test_size=1)\n",
    "        pipeline_ranfor = Pipeline(steps=[('pca',PCA()),('ranfor',\n",
    "                                           RandomForestClassifier())])\n",
    "        n_estimators = [50,100]\n",
    "        class_weight = ['balanced',{1:4,0:1},{1:2,0:1}]\n",
    "        n_components = np.arange(2,eqtm_data.train.num_features,10)\n",
    "        param_grid_ranfor = [{'pca__n_components':n_components,\n",
    "                              'ranfor__n_estimators':n_estimators,\n",
    "                              'ranfor__class_weight':class_weight}]\n",
    "        sensitivity,specificity,auc,classifier_ranfor = \\\n",
    "        display_res_gavin_and_best_model(\n",
    "                                         param_grid_ranfor,\n",
    "                                         pipeline_ranfor,\n",
    "                                         eqtm_data,\n",
    "                                         returnRes=True)\n",
    "        sensitivity2,specificity2,auc2 = run_display_output(classifier_ranfor,test_data.test)\n",
    "        print('>>> test on another dataset: sensitivity: {:.{prec}}\\tspecificity: {:.{prec}f}\\tauc:{}'.\\\n",
    "        format(sensitivity2,specificity2,auc2,prec=3))\n",
    "        res['sensitivity'].append(sensitivity)\n",
    "        res['specificity'].append(specificity)\n",
    "        res['auc'].append(auc)\n",
    "        res2['sensitivity'].append(sensitivity2)\n",
    "        res2['specificity'].append(specificity2)\n",
    "        res2['auc'].append(auc2)\n",
    "    print('Sensitivity:',\n",
    "    np.mean(np.array(res['sensitivity'])),\n",
    "    np.std(np.array(res['sensitivity'])),\n",
    "    np.mean(np.array(res2['sensitivity'])),\n",
    "    np.std(np.array(res2['sensitivity'])))\n",
    "    print('Specificity:',\n",
    "    np.mean(np.array(res['specificity'])),\n",
    "    np.std(np.array(res['specificity'])),\n",
    "    np.mean(np.array(res2['specificity'])),\n",
    "    np.std(np.array(res2['specificity'])))\n",
    "    print('AUC:',\n",
    "    np.mean(np.array(res['auc'])),\n",
    "    np.std(np.array(res['auc'])),\n",
    "    np.mean(np.array(res2['auc'])),\n",
    "    np.std(np.array(res2['auc'])))"
   ]
  },
  {
   "cell_type": "code",
   "execution_count": 4,
   "metadata": {},
   "outputs": [],
   "source": [
    "res_testdata = classifier_ranfor.predict_proba(test_data.test.values)"
   ]
  },
  {
   "cell_type": "code",
   "execution_count": 5,
   "metadata": {},
   "outputs": [
    {
     "name": "stdout",
     "output_type": "stream",
     "text": [
      "(1875,) (1875,)\n"
     ]
    },
    {
     "data": {
      "text/plain": [
       "(1875, 35)"
      ]
     },
     "execution_count": 5,
     "metadata": {},
     "output_type": "execute_result"
    }
   ],
   "source": [
    "from sklearn.metrics import accuracy_score\n",
    "import matplotlib.pyplot as plt\n",
    "% matplotlib inline\n",
    "# accuracy = accuracy_score(res_testdata[:,0], test_data.test.labels)\n",
    "print(res_testdata[:,0].shape, test_data.test.labels.shape)\n",
    "test_data.test.values.shape\n",
    "# plt.scatter(test_data.test.labels,res_testdata[:,0])"
   ]
  },
  {
   "cell_type": "code",
   "execution_count": 6,
   "metadata": {},
   "outputs": [
    {
     "name": "stdout",
     "output_type": "stream",
     "text": [
      "Raw data loaded.\n",
      "Data Normalized.\n"
     ]
    }
   ],
   "source": [
    "def readDataWithRawScore(data_table,label_name=['zscore'],test_size=0.25,normalization=True):\n",
    "    train, test = train_test_split(data_table,test_size=test_size)\n",
    "    copy_train = train.copy().reset_index()\n",
    "    copy_test = test.copy().reset_index()\n",
    "    if normalization:\n",
    "        minMaxScaler = preprocessing.MinMaxScaler()\n",
    "        numericalCols = [col for col in\n",
    "                         train.select_dtypes(exclude=[np.object]).columns]\n",
    "        train_feature_copy = copy_train.loc[:,numericalCols]\n",
    "        copy_train.loc[:,numericalCols] = minMaxScaler.fit_transform(train_feature_copy)\n",
    "        if copy_test.shape[0]>0:\n",
    "            test_feature_copy = copy_test.loc[:,numericalCols]\n",
    "            copy_test.loc[:,numericalCols] = minMaxScaler.fit_transform(test_feature_copy)\n",
    "        print('Data Normalized.')\n",
    "    train_x = copy_train[[col for col in train.columns if col not in [label_name]]]\n",
    "    test_x = copy_test[[col for col in test.columns if col not in [label_name]]]\n",
    "    train_y = copy_train[label_name]\n",
    "    test_y = copy_test[label_name]\n",
    "    return Datasets(train=dataset(train_x,train_y),\n",
    "                    test=dataset(test_x,test_y))\n",
    "\n",
    "def load_data_pandas(path,exclude,test_size=0.25):\n",
    "    data = pd.read_csv(path,sep=',',index_col=0)\n",
    "    def binarize(row):\n",
    "        if row > 0:\n",
    "            return 1\n",
    "        else:\n",
    "            return 0\n",
    "    data['direction'] = data['zscore'].apply(binarize)\n",
    "    print('Raw data loaded.')\n",
    "    features = [feat for feat in data.columns if feat not in exclude]\n",
    "    dataset = readDataWithRawScore(data[features],test_size=test_size)\n",
    "    return dataset"
   ]
  },
  {
   "cell_type": "code",
   "execution_count": 7,
   "metadata": {},
   "outputs": [
    {
     "name": "stdout",
     "output_type": "stream",
     "text": [
      "Raw data loaded.\n",
      "Data Normalized.\n",
      "(28454,) (28454,)\n"
     ]
    }
   ],
   "source": [
    "gtfile_test = load_data_pandas(gt_filepath,exclude = ['cpgName_split'],test_size=0)\n",
    "probs = classifier_ranfor.predict_proba(gtfile_test.train.values[[col for col in gtfile_test.train.values.columns if col not in ['cpgName','direction','zscore']]])\n",
    "print(gtfile_test.train.values['zscore'].shape,probs[:,0].shape)"
   ]
  },
  {
   "cell_type": "code",
   "execution_count": 10,
   "metadata": {},
   "outputs": [
    {
     "data": {
      "text/plain": [
       "<matplotlib.collections.PathCollection at 0x7f7e9a13aa20>"
      ]
     },
     "execution_count": 10,
     "metadata": {},
     "output_type": "execute_result"
    },
    {
     "data": {
      "image/png": "[encoded data removed]",
      "text/plain": [
       "<matplotlib.figure.Figure at 0x7f7e9a2fbc18>"
      ]
     },
     "metadata": {},
     "output_type": "display_data"
    }
   ],
   "source": [
    "conf=[]\n",
    "for i in range(probs.shape[0]):\n",
    "    if probs[i][0] >0.5:\n",
    "        conf.append(probs[i][0])\n",
    "    else:\n",
    "        conf.append(probs[i][1])\n",
    "plt.scatter(gtfile_test.train.values['zscore'],conf,alpha=0.2)        "
   ]
  },
  {
   "cell_type": "code",
   "execution_count": 13,
   "metadata": {},
   "outputs": [
    {
     "data": {
      "text/plain": [
       "count    28454.000000\n",
       "mean         0.410495\n",
       "std          0.345528\n",
       "min          0.000000\n",
       "25%          0.141202\n",
       "50%          0.198837\n",
       "75%          0.811065\n",
       "max          1.000000\n",
       "Name: zscore, dtype: float64"
      ]
     },
     "execution_count": 13,
     "metadata": {},
     "output_type": "execute_result"
    }
   ],
   "source": [
    "gtfile_test.train.values['zscore'].describe()"
   ]
  },
  {
   "cell_type": "code",
   "execution_count": 14,
   "metadata": {},
   "outputs": [
    {
     "data": {
      "text/plain": [
       "count    7497.000000\n",
       "mean        0.437710\n",
       "std         0.103907\n",
       "min         0.000000\n",
       "25%         0.387719\n",
       "50%         0.415776\n",
       "75%         0.429089\n",
       "max         1.000000\n",
       "Name: zscore, dtype: float64"
      ]
     },
     "execution_count": 14,
     "metadata": {},
     "output_type": "execute_result"
    }
   ],
   "source": [
    "etfile_test.train.values['zscore'].describe()"
   ]
  },
  {
   "cell_type": "code",
   "execution_count": 18,
   "metadata": {},
   "outputs": [
    {
     "data": {
      "text/plain": [
       "count    28454.000000\n",
       "mean        -1.109902\n",
       "std          4.282199\n",
       "min         -6.197249\n",
       "25%         -4.447309\n",
       "50%         -3.733024\n",
       "75%          3.854435\n",
       "max          6.195939\n",
       "Name: zscore, dtype: float64"
      ]
     },
     "execution_count": 18,
     "metadata": {},
     "output_type": "execute_result"
    }
   ],
   "source": [
    "gtFileRaw = pd.read_csv(gt_filepath,index_col=0)\n",
    "gtFileRaw.zscore.describe()"
   ]
  },
  {
   "cell_type": "code",
   "execution_count": 19,
   "metadata": {},
   "outputs": [
    {
     "data": {
      "text/plain": [
       "count    7497.000000\n",
       "mean       -5.569383\n",
       "std         8.667272\n",
       "min       -42.080395\n",
       "25%        -9.739365\n",
       "50%        -7.399048\n",
       "75%        -6.288554\n",
       "max        41.333217\n",
       "Name: zscore, dtype: float64"
      ]
     },
     "execution_count": 19,
     "metadata": {},
     "output_type": "execute_result"
    }
   ],
   "source": [
    "etFileRaw = pd.read_csv(et_filepath,index_col=0)\n",
    "etFileRaw.zscore.describe()"
   ]
  },
  {
   "cell_type": "code",
   "execution_count": null,
   "metadata": {},
   "outputs": [],
   "source": []
  }
 ],
 "metadata": {
  "kernelspec": {
   "display_name": "Python 3",
   "language": "python",
   "name": "python3"
  },
  "language_info": {
   "codemirror_mode": {
    "name": "ipython",
    "version": 3
   },
   "file_extension": ".py",
   "mimetype": "text/x-python",
   "name": "python",
   "nbconvert_exporter": "python",
   "pygments_lexer": "ipython3",
   "version": "3.6.3"
  }
 },
 "nbformat": 4,
 "nbformat_minor": 2
}
