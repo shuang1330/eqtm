{
 "cells": [
  {
   "cell_type": "code",
   "execution_count": 1,
   "metadata": {},
   "outputs": [],
   "source": [
    "import pandas as pd\n",
    "import os\n",
    "import matplotlib.pyplot as plt\n",
    "import numpy as np\n",
    "%matplotlib inline"
   ]
  },
  {
   "cell_type": "code",
   "execution_count": 2,
   "metadata": {},
   "outputs": [],
   "source": [
    "# wrap it into a function\n",
    "def addTssDistance2eQTMwithZscoreFile(eQTM_path,tss_path,save_path = None):\n",
    "    # read tss file from tss_path\n",
    "    colnames = ['chr','regionFunction','regionType','startSite',\n",
    "                'endSite','score','strand','sthunknown','geneInfo']\n",
    "    dtype = {'chr':object,'regionFunction':object,'regionType':object,\n",
    "             'startSite':int,'endSite':int,'score':object,\n",
    "             'strand':object,'sthunknown':object,'geneInfo':object}\n",
    "    tss_raw = pd.read_csv(tss_path,sep='\\t',header=None,names=colnames,dtype=dtype)\n",
    "    \n",
    "    # reading the eQTMs\n",
    "    eQTMs = pd.read_csv(eQTM_path,sep='\\t')\n",
    "    \n",
    "    # extract gene name from geneInfo for tss file\n",
    "    def findGeneName(item):\n",
    "        item = [thing for thing in list(filter(None,item.strip().split(\";\")))][0]\n",
    "        name = item.replace('\"','').replace(';','').strip().split(' ')[1]\n",
    "        return name\n",
    "    tss_raw['geneName'] = tss_raw['geneInfo'].apply(findGeneName)\n",
    "    \n",
    "    # find the tss sites for each gene in the tss file\n",
    "    groupbyTss = tss_raw.groupby('geneName').agg({\n",
    "        'chr':lambda x: x.unique(),\n",
    "        'startSite':np.min,\n",
    "        'endSite':np.max,\n",
    "        'strand':lambda x: x.unique()\n",
    "    })\n",
    "    def findTssSite(series):\n",
    "        if series[3] == '-':\n",
    "            return series[2]\n",
    "        else:\n",
    "            return series[1]\n",
    "    groupbyTss['TssSite'] = groupbyTss.apply(findTssSite,axis=1)\n",
    "    \n",
    "    # add tss sites and tss distance to the eqtm file\n",
    "    def mapSite(row):\n",
    "        return groupbyTss.loc[row]['TssSite']\n",
    "    def calculateDis(row):\n",
    "        return abs(row[0]-row[1])\n",
    "    def findChr(row):\n",
    "        return groupbyTss.loc[row]['chr']\n",
    "    def checkChr(row):\n",
    "        if str(row[0])==str(row[1]):\n",
    "            return True\n",
    "        else:\n",
    "            return False\n",
    "    eQTMs['TssSite'] = eQTMs['ProbeName'].apply(mapSite)\n",
    "    eQTMs['chr'] = eQTMs['ProbeName'].apply(findChr)\n",
    "    eQTMs['TssDistance'] = eQTMs[['SNPChrPos','TssSite']].apply(calculateDis,axis=1)\n",
    "    eQTMs['checkChr'] = eQTMs[['chr','SNPChr']].apply(checkChr,axis=1)\n",
    "    # check whether they are from the same chromosome\n",
    "    assert len(eQTMs['checkChr'].unique()) == 1\n",
    "    \n",
    "    if save_path:\n",
    "        # save the eQTM file\n",
    "        eQTMs.to_csv(save_path,index=False)\n",
    "        print('Saved eQTM file to: ',save_path)"
   ]
  },
  {
   "cell_type": "code",
   "execution_count": 3,
   "metadata": {},
   "outputs": [],
   "source": [
    "# Reading the gene positions \n",
    "PROJECT_DIR='/home/shuang/projects/eqtm'\n",
    "tss_raw_path = os.path.join(PROJECT_DIR,'data','TSSdistance','Homo_sapiens.GRCh37.71.gtf')\n",
    "colnames = ['chr','regionFunction','regionType','startSite','endSite','score','strand','sthunknown','geneInfo']\n",
    "dtype = {'chr':object,'regionFunction':object,'regionType':object,'startSite':int,\n",
    "         'endSite':int,'score':object,'strand':object,'sthunknown':object,\n",
    "         'geneInfo':object}\n",
    "tss_raw = pd.read_csv(tss_raw_path,sep='\\t',header=None,names=colnames,dtype=dtype)"
   ]
  },
  {
   "cell_type": "code",
   "execution_count": 4,
   "metadata": {},
   "outputs": [
    {
     "name": "stdout",
     "output_type": "stream",
     "text": [
      "Saved eQTM file to:  /home/shuang/projects/boxy_eqtm/data/eqtmZscores/fdr_gt0.05/random20k_gt0.5_withTss.txt\n"
     ]
    }
   ],
   "source": [
    "eQTM_path = '/home/shuang/projects/boxy_eqtm/data/eqtmZscores/fdr_gt0.05/random20k_gt0.5.txt'\n",
    "save_path = '/home/shuang/projects/boxy_eqtm/data/eqtmZscores/fdr_gt0.05/random20k_gt0.5_withTss.txt'\n",
    "addTssDistance2eQTMwithZscoreFile(eQTM_path,tss_raw_path,save_path)"
   ]
  },
  {
   "cell_type": "code",
   "execution_count": 4,
   "metadata": {},
   "outputs": [
    {
     "name": "stdout",
     "output_type": "stream",
     "text": [
      "Saved eQTM file to:  /home/shuang/projects/eqtm/data/output/et0.0-eQTMwithZscoreTssDistance.csv\n"
     ]
    }
   ],
   "source": [
    "tss_raw_path = os.path.join(PROJECT_DIR,'data','TSSdistance','Homo_sapiens.GRCh37.71.gtf')\n",
    "eQTM_path = os.path.join(PROJECT_DIR,'data',\n",
    "                         'eqtmZscores','2017-12-09-eQTLsFDR-et0.0-flipped.txt')\n",
    "save_path = os.path.join(PROJECT_DIR,'data','output','et0.0-eQTMwithZscoreTssDistance.csv')\n",
    "addTssDistance2eQTMwithZscoreFile(eQTM_path,tss_raw_path,save_path)"
   ]
  },
  {
   "cell_type": "code",
   "execution_count": null,
   "metadata": {},
   "outputs": [],
   "source": []
  },
  {
   "cell_type": "code",
   "execution_count": 190,
   "metadata": {},
   "outputs": [
    {
     "name": "stdout",
     "output_type": "stream",
     "text": [
      "Saved eQTM file to:  /home/shuang/projects/eqtm/data/output/gt0.0-eQTMwithZscoreTssDistance.csv\n"
     ]
    }
   ],
   "source": [
    "tss_raw_path = os.path.join(PROJECT_DIR,'data','TSSdistance','Homo_sapiens.GRCh37.71.gtf')\n",
    "eQTM_path = os.path.join(PROJECT_DIR,'data',\n",
    "                         'eqtmZscores','2017-12-09-eQTLsFDR-gt0.0-flipped.txt')\n",
    "save_path = os.path.join(PROJECT_DIR,'data','output','gt0.0-eQTMwithZscoreTssDistance.csv')\n",
    "addTssDistance2eQTMwithZscoreFile(eQTM_path,tss_raw_path,save_path)"
   ]
  },
  {
   "cell_type": "code",
   "execution_count": 6,
   "metadata": {},
   "outputs": [
    {
     "name": "stdout",
     "output_type": "stream",
     "text": [
      "Saved eQTM file to:  /home/shuang/projects/eqtm/data/output/gt0.05-eQTMwithZscoreTssDistance.csv\n"
     ]
    }
   ],
   "source": [
    "tss_raw_path = os.path.join(PROJECT_DIR,'data','TSSdistance','Homo_sapiens.GRCh37.71.gtf')\n",
    "eQTM_path = os.path.join(PROJECT_DIR,'data',\n",
    "                         'eqtmZscores','random20000-eQTLsFDR-gt0.05-flipped.txt')\n",
    "save_path = os.path.join(PROJECT_DIR,'data','output','gt0.05-eQTMwithZscoreTssDistance.csv')\n",
    "addTssDistance2eQTMwithZscoreFile(eQTM_path,tss_raw_path,save_path)"
   ]
  },
  {
   "cell_type": "code",
   "execution_count": null,
   "metadata": {},
   "outputs": [],
   "source": []
  },
  {
   "cell_type": "code",
   "execution_count": null,
   "metadata": {},
   "outputs": [],
   "source": []
  },
  {
   "cell_type": "code",
   "execution_count": null,
   "metadata": {},
   "outputs": [],
   "source": []
  },
  {
   "cell_type": "markdown",
   "metadata": {},
   "source": [
    "# test phase"
   ]
  },
  {
   "cell_type": "code",
   "execution_count": 61,
   "metadata": {},
   "outputs": [
    {
     "data": {
      "text/html": [
       "<div>\n",
       "<style scoped>\n",
       "    .dataframe tbody tr th:only-of-type {\n",
       "        vertical-align: middle;\n",
       "    }\n",
       "\n",
       "    .dataframe tbody tr th {\n",
       "        vertical-align: top;\n",
       "    }\n",
       "\n",
       "    .dataframe thead th {\n",
       "        text-align: right;\n",
       "    }\n",
       "</style>\n",
       "<table border=\"1\" class=\"dataframe\">\n",
       "  <thead>\n",
       "    <tr style=\"text-align: right;\">\n",
       "      <th></th>\n",
       "      <th>PValue</th>\n",
       "      <th>SNPName</th>\n",
       "      <th>SNPChr</th>\n",
       "      <th>SNPChrPos</th>\n",
       "      <th>ProbeName</th>\n",
       "      <th>ProbeChr</th>\n",
       "      <th>ProbeCenterChrPos</th>\n",
       "      <th>CisTrans</th>\n",
       "      <th>SNPType</th>\n",
       "      <th>AlleleAssessed</th>\n",
       "      <th>...</th>\n",
       "      <th>DatasetsZScores</th>\n",
       "      <th>DatasetsNrSamples</th>\n",
       "      <th>IncludedDatasetsMeanProbeExpression</th>\n",
       "      <th>IncludedDatasetsProbeExpressionVariance</th>\n",
       "      <th>HGNCName</th>\n",
       "      <th>IncludedDatasetsCorrelationCoefficient</th>\n",
       "      <th>Meta-Beta (SE)</th>\n",
       "      <th>Beta (SE)</th>\n",
       "      <th>FoldChange</th>\n",
       "      <th>FDR</th>\n",
       "    </tr>\n",
       "  </thead>\n",
       "  <tbody>\n",
       "    <tr>\n",
       "      <th>0</th>\n",
       "      <td>3.271670e-310</td>\n",
       "      <td>cg07772999</td>\n",
       "      <td>2</td>\n",
       "      <td>113993052</td>\n",
       "      <td>ENSG00000189223</td>\n",
       "      <td>2</td>\n",
       "      <td>113996843</td>\n",
       "      <td>cis</td>\n",
       "      <td>C/T</td>\n",
       "      <td>C</td>\n",
       "      <td>...</td>\n",
       "      <td>13.3954353;26.201855;19.4459641;10.3181315;7.7...</td>\n",
       "      <td>554;741;732;429;263;186</td>\n",
       "      <td>0.0;0.0;0.0;0.0;0.0;0.0</td>\n",
       "      <td>25622.5;45818.5;44713.0;15372.5;5786.0;2898.5</td>\n",
       "      <td>AC016683.6</td>\n",
       "      <td>0.5270649;0.7784176;0.6356204;0.4698918;0.4564...</td>\n",
       "      <td>0E0 (0E0)</td>\n",
       "      <td>0.5270649 (0.036171);0.7784176 (0.023092);0.63...</td>\n",
       "      <td>0;0;0;0;0;0</td>\n",
       "      <td>0.0</td>\n",
       "    </tr>\n",
       "    <tr>\n",
       "      <th>1</th>\n",
       "      <td>3.271670e-310</td>\n",
       "      <td>cg03085549</td>\n",
       "      <td>16</td>\n",
       "      <td>75150819</td>\n",
       "      <td>ENSG00000166816</td>\n",
       "      <td>16</td>\n",
       "      <td>75148213</td>\n",
       "      <td>cis</td>\n",
       "      <td>C/T</td>\n",
       "      <td>C</td>\n",
       "      <td>...</td>\n",
       "      <td>15.8873241;22.8059151;20.1369623;13.1688411;8....</td>\n",
       "      <td>554;741;732;429;263;186</td>\n",
       "      <td>0.0;0.0;0.0;0.0;0.0;0.0</td>\n",
       "      <td>25622.5;45818.5;44713.0;15372.5;5786.0;2898.5</td>\n",
       "      <td>LDHD</td>\n",
       "      <td>0.6057864;0.7109548;0.6530147;0.5783938;0.4695...</td>\n",
       "      <td>0E0 (0E0)</td>\n",
       "      <td>0.6057864 (0.0338641);0.7109548 (0.025869);0.6...</td>\n",
       "      <td>0;0;0;0;0;0</td>\n",
       "      <td>0.0</td>\n",
       "    </tr>\n",
       "    <tr>\n",
       "      <th>2</th>\n",
       "      <td>3.271670e-310</td>\n",
       "      <td>cg24429836</td>\n",
       "      <td>16</td>\n",
       "      <td>75150744</td>\n",
       "      <td>ENSG00000166816</td>\n",
       "      <td>16</td>\n",
       "      <td>75148213</td>\n",
       "      <td>cis</td>\n",
       "      <td>C/T</td>\n",
       "      <td>C</td>\n",
       "      <td>...</td>\n",
       "      <td>15.6887132;23.7103174;21.6281806;12.4772442;8....</td>\n",
       "      <td>554;741;732;429;263;186</td>\n",
       "      <td>0.0;0.0;0.0;0.0;0.0;0.0</td>\n",
       "      <td>25622.5;45818.5;44713.0;15372.5;5786.0;2898.5</td>\n",
       "      <td>LDHD</td>\n",
       "      <td>0.5995889;0.7296311;0.6878608;0.5530699;0.4897...</td>\n",
       "      <td>0E0 (0E0)</td>\n",
       "      <td>0.5995889 (0.0340634);0.7296311 (0.0251555);0....</td>\n",
       "      <td>0;0;0;0;0;0</td>\n",
       "      <td>0.0</td>\n",
       "    </tr>\n",
       "    <tr>\n",
       "      <th>3</th>\n",
       "      <td>3.271670e-310</td>\n",
       "      <td>cg16540789</td>\n",
       "      <td>16</td>\n",
       "      <td>75150736</td>\n",
       "      <td>ENSG00000166816</td>\n",
       "      <td>16</td>\n",
       "      <td>75148213</td>\n",
       "      <td>cis</td>\n",
       "      <td>C/T</td>\n",
       "      <td>C</td>\n",
       "      <td>...</td>\n",
       "      <td>16.493962;23.2769005;20.8489664;13.6811314;8.2...</td>\n",
       "      <td>554;741;732;429;263;186</td>\n",
       "      <td>0.0;0.0;0.0;0.0;0.0;0.0</td>\n",
       "      <td>25622.5;45818.5;44713.0;15372.5;5786.0;2898.5</td>\n",
       "      <td>LDHD</td>\n",
       "      <td>0.6237894;0.7210936;0.669591;0.5960725;0.47972...</td>\n",
       "      <td>0E0 (0E0)</td>\n",
       "      <td>0.6237894 (0.0332668);0.7210936 (0.0254864);0....</td>\n",
       "      <td>0;0;0;0;0;0</td>\n",
       "      <td>0.0</td>\n",
       "    </tr>\n",
       "    <tr>\n",
       "      <th>4</th>\n",
       "      <td>3.271670e-310</td>\n",
       "      <td>cg07320140</td>\n",
       "      <td>16</td>\n",
       "      <td>75150563</td>\n",
       "      <td>ENSG00000166816</td>\n",
       "      <td>16</td>\n",
       "      <td>75148213</td>\n",
       "      <td>cis</td>\n",
       "      <td>C/T</td>\n",
       "      <td>C</td>\n",
       "      <td>...</td>\n",
       "      <td>16.0541779;23.1818341;21.6722909;13.8547848;8....</td>\n",
       "      <td>554;741;732;429;263;186</td>\n",
       "      <td>0.0;0.0;0.0;0.0;0.0;0.0</td>\n",
       "      <td>25622.5;45818.5;44713.0;15372.5;5786.0;2898.5</td>\n",
       "      <td>LDHD</td>\n",
       "      <td>0.6113259;0.7185615;0.6891731;0.6017535;0.4778...</td>\n",
       "      <td>0E0 (0E0)</td>\n",
       "      <td>0.6113259 (0.0336833);0.7185615 (0.025583);0.6...</td>\n",
       "      <td>0;0;0;0;0;0</td>\n",
       "      <td>0.0</td>\n",
       "    </tr>\n",
       "  </tbody>\n",
       "</table>\n",
       "<p>5 rows × 22 columns</p>\n",
       "</div>"
      ],
      "text/plain": [
       "          PValue     SNPName  SNPChr  SNPChrPos        ProbeName  ProbeChr  \\\n",
       "0  3.271670e-310  cg07772999       2  113993052  ENSG00000189223         2   \n",
       "1  3.271670e-310  cg03085549      16   75150819  ENSG00000166816        16   \n",
       "2  3.271670e-310  cg24429836      16   75150744  ENSG00000166816        16   \n",
       "3  3.271670e-310  cg16540789      16   75150736  ENSG00000166816        16   \n",
       "4  3.271670e-310  cg07320140      16   75150563  ENSG00000166816        16   \n",
       "\n",
       "   ProbeCenterChrPos CisTrans SNPType AlleleAssessed ...   \\\n",
       "0          113996843      cis     C/T              C ...    \n",
       "1           75148213      cis     C/T              C ...    \n",
       "2           75148213      cis     C/T              C ...    \n",
       "3           75148213      cis     C/T              C ...    \n",
       "4           75148213      cis     C/T              C ...    \n",
       "\n",
       "                                     DatasetsZScores        DatasetsNrSamples  \\\n",
       "0  13.3954353;26.201855;19.4459641;10.3181315;7.7...  554;741;732;429;263;186   \n",
       "1  15.8873241;22.8059151;20.1369623;13.1688411;8....  554;741;732;429;263;186   \n",
       "2  15.6887132;23.7103174;21.6281806;12.4772442;8....  554;741;732;429;263;186   \n",
       "3  16.493962;23.2769005;20.8489664;13.6811314;8.2...  554;741;732;429;263;186   \n",
       "4  16.0541779;23.1818341;21.6722909;13.8547848;8....  554;741;732;429;263;186   \n",
       "\n",
       "  IncludedDatasetsMeanProbeExpression  \\\n",
       "0             0.0;0.0;0.0;0.0;0.0;0.0   \n",
       "1             0.0;0.0;0.0;0.0;0.0;0.0   \n",
       "2             0.0;0.0;0.0;0.0;0.0;0.0   \n",
       "3             0.0;0.0;0.0;0.0;0.0;0.0   \n",
       "4             0.0;0.0;0.0;0.0;0.0;0.0   \n",
       "\n",
       "         IncludedDatasetsProbeExpressionVariance     HGNCName  \\\n",
       "0  25622.5;45818.5;44713.0;15372.5;5786.0;2898.5   AC016683.6   \n",
       "1  25622.5;45818.5;44713.0;15372.5;5786.0;2898.5         LDHD   \n",
       "2  25622.5;45818.5;44713.0;15372.5;5786.0;2898.5         LDHD   \n",
       "3  25622.5;45818.5;44713.0;15372.5;5786.0;2898.5         LDHD   \n",
       "4  25622.5;45818.5;44713.0;15372.5;5786.0;2898.5         LDHD   \n",
       "\n",
       "              IncludedDatasetsCorrelationCoefficient Meta-Beta (SE)  \\\n",
       "0  0.5270649;0.7784176;0.6356204;0.4698918;0.4564...      0E0 (0E0)   \n",
       "1  0.6057864;0.7109548;0.6530147;0.5783938;0.4695...      0E0 (0E0)   \n",
       "2  0.5995889;0.7296311;0.6878608;0.5530699;0.4897...      0E0 (0E0)   \n",
       "3  0.6237894;0.7210936;0.669591;0.5960725;0.47972...      0E0 (0E0)   \n",
       "4  0.6113259;0.7185615;0.6891731;0.6017535;0.4778...      0E0 (0E0)   \n",
       "\n",
       "                                           Beta (SE)   FoldChange  FDR  \n",
       "0  0.5270649 (0.036171);0.7784176 (0.023092);0.63...  0;0;0;0;0;0  0.0  \n",
       "1  0.6057864 (0.0338641);0.7109548 (0.025869);0.6...  0;0;0;0;0;0  0.0  \n",
       "2  0.5995889 (0.0340634);0.7296311 (0.0251555);0....  0;0;0;0;0;0  0.0  \n",
       "3  0.6237894 (0.0332668);0.7210936 (0.0254864);0....  0;0;0;0;0;0  0.0  \n",
       "4  0.6113259 (0.0336833);0.7185615 (0.025583);0.6...  0;0;0;0;0;0  0.0  \n",
       "\n",
       "[5 rows x 22 columns]"
      ]
     },
     "execution_count": 61,
     "metadata": {},
     "output_type": "execute_result"
    }
   ],
   "source": [
    "# reading the eQTMs\n",
    "eQTM_path = os.path.join(PROJECT_DIR,'data','eqtmZscores','2017-12-09-eQTLsFDR-et0.0-flipped.txt')\n",
    "eQTMs = pd.read_csv(eQTM_path,sep='\\t')\n",
    "eQTMs.head()"
   ]
  },
  {
   "cell_type": "code",
   "execution_count": 76,
   "metadata": {},
   "outputs": [
    {
     "name": "stdout",
     "output_type": "stream",
     "text": [
      "['gene_id \"ENSG00000261516\"', ' transcript_id \"ENST00000561901\"', ' exon_number \"2\"', ' gene_name \"ZNF707\"', ' gene_biotype \"protein_coding\"', ' transcript_name \"ZNF707-012\"', ' exon_id \"ENSE00003242903\"']\n",
      " gene_id \"ENSG00000261516\"; transcript_id \"ENST00000561901\"; exon_number \"2\"; gene_name \"ZNF707\"; gene_biotype \"protein_coding\"; transcript_name \"ZNF707-012\"; exon_id \"ENSE00003242903\";\n"
     ]
    }
   ],
   "source": [
    "first_layer = [item for item in list(filter(None,tss_raw['geneInfo'].loc[1,].strip().split(\";\")))]\n",
    "second_layer = {}\n",
    "for item in first_layer:\n",
    "    keypair = item.replace('\"','').replace(';','').strip().split(' ')\n",
    "    second_layer[keypair[0]] = keypair[1]\n",
    "print(first_layer)\n",
    "print(tss_raw['geneInfo'].loc[1,])"
   ]
  },
  {
   "cell_type": "code",
   "execution_count": 80,
   "metadata": {},
   "outputs": [
    {
     "name": "stdout",
     "output_type": "stream",
     "text": [
      "ENSG00000261516\n"
     ]
    }
   ],
   "source": [
    "testitem = 'gene_id \"ENSG00000261516\"; transcript_id \"ENST00000561901\"; exon_number \"2\"; gene_name \"ZNF707\"; gene_biotype \"protein_coding\"; transcript_name \"ZNF707-012\"; exon_id \"ENSE00003242903\";'\n",
    "def findGeneName(item):\n",
    "    item = [thing for thing in list(filter(None,item.strip().split(\";\")))][0]\n",
    "    name = item.replace('\"','').replace(';','').strip().split(' ')[1]\n",
    "    return name\n",
    "print(findGeneName(testitem))\n",
    "tss_raw['geneName'] = tss_raw['geneInfo'].apply(findGeneName)"
   ]
  },
  {
   "cell_type": "code",
   "execution_count": 104,
   "metadata": {},
   "outputs": [],
   "source": [
    "groupbyTss = tss_raw.groupby('geneName').agg({\n",
    "    'chr':lambda x: x.unique(),\n",
    "    'startSite':np.min,\n",
    "    'endSite':np.max,\n",
    "    'strand':lambda x: x.unique()\n",
    "})\n",
    "def findTssSite(series):\n",
    "    if series[3] == '-':\n",
    "        return series[2]\n",
    "    else:\n",
    "        return series[1]\n",
    "groupbyTss['TssSite'] = groupbyTss.apply(findTssSite,axis=1)"
   ]
  },
  {
   "cell_type": "code",
   "execution_count": 160,
   "metadata": {
    "scrolled": false
   },
   "outputs": [
    {
     "data": {
      "text/html": [
       "<div>\n",
       "<style scoped>\n",
       "    .dataframe tbody tr th:only-of-type {\n",
       "        vertical-align: middle;\n",
       "    }\n",
       "\n",
       "    .dataframe tbody tr th {\n",
       "        vertical-align: top;\n",
       "    }\n",
       "\n",
       "    .dataframe thead th {\n",
       "        text-align: right;\n",
       "    }\n",
       "</style>\n",
       "<table border=\"1\" class=\"dataframe\">\n",
       "  <thead>\n",
       "    <tr style=\"text-align: right;\">\n",
       "      <th></th>\n",
       "      <th>chr</th>\n",
       "      <th>startSite</th>\n",
       "      <th>endSite</th>\n",
       "      <th>strand</th>\n",
       "      <th>TssSite</th>\n",
       "    </tr>\n",
       "    <tr>\n",
       "      <th>geneName</th>\n",
       "      <th></th>\n",
       "      <th></th>\n",
       "      <th></th>\n",
       "      <th></th>\n",
       "      <th></th>\n",
       "    </tr>\n",
       "  </thead>\n",
       "  <tbody>\n",
       "    <tr>\n",
       "      <th>ENSG00000000003</th>\n",
       "      <td>X</td>\n",
       "      <td>99883667</td>\n",
       "      <td>99894988</td>\n",
       "      <td>-</td>\n",
       "      <td>99894988</td>\n",
       "    </tr>\n",
       "    <tr>\n",
       "      <th>ENSG00000000005</th>\n",
       "      <td>X</td>\n",
       "      <td>99839799</td>\n",
       "      <td>99854882</td>\n",
       "      <td>+</td>\n",
       "      <td>99839799</td>\n",
       "    </tr>\n",
       "    <tr>\n",
       "      <th>ENSG00000000419</th>\n",
       "      <td>20</td>\n",
       "      <td>49551404</td>\n",
       "      <td>49575092</td>\n",
       "      <td>-</td>\n",
       "      <td>49575092</td>\n",
       "    </tr>\n",
       "    <tr>\n",
       "      <th>ENSG00000000457</th>\n",
       "      <td>1</td>\n",
       "      <td>169821804</td>\n",
       "      <td>169863408</td>\n",
       "      <td>-</td>\n",
       "      <td>169863408</td>\n",
       "    </tr>\n",
       "    <tr>\n",
       "      <th>ENSG00000000460</th>\n",
       "      <td>1</td>\n",
       "      <td>169631245</td>\n",
       "      <td>169823221</td>\n",
       "      <td>+</td>\n",
       "      <td>169631245</td>\n",
       "    </tr>\n",
       "  </tbody>\n",
       "</table>\n",
       "</div>"
      ],
      "text/plain": [
       "                chr  startSite    endSite strand    TssSite\n",
       "geneName                                                   \n",
       "ENSG00000000003   X   99883667   99894988      -   99894988\n",
       "ENSG00000000005   X   99839799   99854882      +   99839799\n",
       "ENSG00000000419  20   49551404   49575092      -   49575092\n",
       "ENSG00000000457   1  169821804  169863408      -  169863408\n",
       "ENSG00000000460   1  169631245  169823221      +  169631245"
      ]
     },
     "execution_count": 160,
     "metadata": {},
     "output_type": "execute_result"
    }
   ],
   "source": [
    "groupbyTss.head()"
   ]
  },
  {
   "cell_type": "code",
   "execution_count": 169,
   "metadata": {
    "scrolled": true
   },
   "outputs": [
    {
     "data": {
      "text/plain": [
       "array([ True])"
      ]
     },
     "execution_count": 169,
     "metadata": {},
     "output_type": "execute_result"
    }
   ],
   "source": [
    "def mapSite(row):\n",
    "    return groupbyTss.loc[row]['TssSite']\n",
    "def calculateDis(row):\n",
    "    return abs(row[0]-row[1])\n",
    "def findChr(row):\n",
    "    return groupbyTss.loc[row]['chr']\n",
    "def checkChr(row):\n",
    "    if str(row[0])==str(row[1]):\n",
    "        return True\n",
    "    else:\n",
    "        return False\n",
    "eQTMs['TssSite'] = eQTMs['ProbeName'].apply(mapSite)\n",
    "eQTMs['chr'] = eQTMs['ProbeName'].apply(findChr)\n",
    "eQTMs['TssDistance'] = eQTMs[['SNPChrPos','TssSite']].apply(calculateDis,axis=1)\n",
    "eQTMs['checkChr'] = eQTMs[['chr','SNPChr']].apply(checkChr,axis=1) # check whether they are from the same chromosome\n",
    "eQTMs['checkChr'].unique()"
   ]
  },
  {
   "cell_type": "code",
   "execution_count": 177,
   "metadata": {},
   "outputs": [],
   "source": [
    "eQTMs.to_csv(os.path.join(PROJECT_DIR,'data','output','et0.0-eQTMwithZscoreTssDistance.csv'),index=False)"
   ]
  },
  {
   "cell_type": "code",
   "execution_count": null,
   "metadata": {
    "scrolled": false
   },
   "outputs": [],
   "source": []
  },
  {
   "cell_type": "code",
   "execution_count": 184,
   "metadata": {},
   "outputs": [],
   "source": []
  },
  {
   "cell_type": "code",
   "execution_count": 185,
   "metadata": {},
   "outputs": [
    {
     "name": "stdout",
     "output_type": "stream",
     "text": [
      "Saved eQTM file to:  /home/shuang/projects/eqtm/data/output/et0.0-eQTMwithZscoreTssDistance.csv\n"
     ]
    }
   ],
   "source": []
  },
  {
   "cell_type": "code",
   "execution_count": 186,
   "metadata": {},
   "outputs": [
    {
     "name": "stdout",
     "output_type": "stream",
     "text": [
      "Saved eQTM file to:  /home/shuang/projects/eqtm/data/output/gt0.0-eQTMwithZscoreTssDistance.csv\n"
     ]
    }
   ],
   "source": []
  },
  {
   "cell_type": "code",
   "execution_count": 187,
   "metadata": {},
   "outputs": [
    {
     "ename": "KeyboardInterrupt",
     "evalue": "",
     "output_type": "error",
     "traceback": [
      "\u001b[0;31m---------------------------------------------------------------------------\u001b[0m",
      "\u001b[0;31mKeyboardInterrupt\u001b[0m                         Traceback (most recent call last)",
      "\u001b[0;32m<ipython-input-187-876c818f8999>\u001b[0m in \u001b[0;36m<module>\u001b[0;34m()\u001b[0m\n\u001b[1;32m      3\u001b[0m                          'eqtmZscores','2017-12-09-eQTLsFDR-gt0.05-flipped.txt')\n\u001b[1;32m      4\u001b[0m \u001b[0msave_path\u001b[0m \u001b[0;34m=\u001b[0m \u001b[0mos\u001b[0m\u001b[0;34m.\u001b[0m\u001b[0mpath\u001b[0m\u001b[0;34m.\u001b[0m\u001b[0mjoin\u001b[0m\u001b[0;34m(\u001b[0m\u001b[0mPROJECT_DIR\u001b[0m\u001b[0;34m,\u001b[0m\u001b[0;34m'data'\u001b[0m\u001b[0;34m,\u001b[0m\u001b[0;34m'output'\u001b[0m\u001b[0;34m,\u001b[0m\u001b[0;34m'gt0.05-eQTMwithZscoreTssDistance.csv'\u001b[0m\u001b[0;34m)\u001b[0m\u001b[0;34m\u001b[0m\u001b[0m\n\u001b[0;32m----> 5\u001b[0;31m \u001b[0maddTssDistance2eQTMwithZscoreFile\u001b[0m\u001b[0;34m(\u001b[0m\u001b[0meQTM_path\u001b[0m\u001b[0;34m,\u001b[0m\u001b[0mtss_raw_path\u001b[0m\u001b[0;34m,\u001b[0m\u001b[0msave_path\u001b[0m\u001b[0;34m)\u001b[0m\u001b[0;34m\u001b[0m\u001b[0m\n\u001b[0m",
      "\u001b[0;32m<ipython-input-184-94cce4b419a3>\u001b[0m in \u001b[0;36maddTssDistance2eQTMwithZscoreFile\u001b[0;34m(eQTM_path, tss_path, save_path)\u001b[0m\n\u001b[1;32m     45\u001b[0m         \u001b[0;32melse\u001b[0m\u001b[0;34m:\u001b[0m\u001b[0;34m\u001b[0m\u001b[0m\n\u001b[1;32m     46\u001b[0m             \u001b[0;32mreturn\u001b[0m \u001b[0;32mFalse\u001b[0m\u001b[0;34m\u001b[0m\u001b[0m\n\u001b[0;32m---> 47\u001b[0;31m     \u001b[0meQTMs\u001b[0m\u001b[0;34m[\u001b[0m\u001b[0;34m'TssSite'\u001b[0m\u001b[0;34m]\u001b[0m \u001b[0;34m=\u001b[0m \u001b[0meQTMs\u001b[0m\u001b[0;34m[\u001b[0m\u001b[0;34m'ProbeName'\u001b[0m\u001b[0;34m]\u001b[0m\u001b[0;34m.\u001b[0m\u001b[0mapply\u001b[0m\u001b[0;34m(\u001b[0m\u001b[0mmapSite\u001b[0m\u001b[0;34m)\u001b[0m\u001b[0;34m\u001b[0m\u001b[0m\n\u001b[0m\u001b[1;32m     48\u001b[0m     \u001b[0meQTMs\u001b[0m\u001b[0;34m[\u001b[0m\u001b[0;34m'chr'\u001b[0m\u001b[0;34m]\u001b[0m \u001b[0;34m=\u001b[0m \u001b[0meQTMs\u001b[0m\u001b[0;34m[\u001b[0m\u001b[0;34m'ProbeName'\u001b[0m\u001b[0;34m]\u001b[0m\u001b[0;34m.\u001b[0m\u001b[0mapply\u001b[0m\u001b[0;34m(\u001b[0m\u001b[0mfindChr\u001b[0m\u001b[0;34m)\u001b[0m\u001b[0;34m\u001b[0m\u001b[0m\n\u001b[1;32m     49\u001b[0m     \u001b[0meQTMs\u001b[0m\u001b[0;34m[\u001b[0m\u001b[0;34m'TssDistance'\u001b[0m\u001b[0;34m]\u001b[0m \u001b[0;34m=\u001b[0m \u001b[0meQTMs\u001b[0m\u001b[0;34m[\u001b[0m\u001b[0;34m[\u001b[0m\u001b[0;34m'SNPChrPos'\u001b[0m\u001b[0;34m,\u001b[0m\u001b[0;34m'TssSite'\u001b[0m\u001b[0;34m]\u001b[0m\u001b[0;34m]\u001b[0m\u001b[0;34m.\u001b[0m\u001b[0mapply\u001b[0m\u001b[0;34m(\u001b[0m\u001b[0mcalculateDis\u001b[0m\u001b[0;34m,\u001b[0m\u001b[0maxis\u001b[0m\u001b[0;34m=\u001b[0m\u001b[0;36m1\u001b[0m\u001b[0;34m)\u001b[0m\u001b[0;34m\u001b[0m\u001b[0m\n",
      "\u001b[0;32m~/.pyenv/versions/3.6.3/envs/py3/lib/python3.6/site-packages/pandas/core/series.py\u001b[0m in \u001b[0;36mapply\u001b[0;34m(self, func, convert_dtype, args, **kwds)\u001b[0m\n\u001b[1;32m   2549\u001b[0m             \u001b[0;32melse\u001b[0m\u001b[0;34m:\u001b[0m\u001b[0;34m\u001b[0m\u001b[0m\n\u001b[1;32m   2550\u001b[0m                 \u001b[0mvalues\u001b[0m \u001b[0;34m=\u001b[0m \u001b[0mself\u001b[0m\u001b[0;34m.\u001b[0m\u001b[0masobject\u001b[0m\u001b[0;34m\u001b[0m\u001b[0m\n\u001b[0;32m-> 2551\u001b[0;31m                 \u001b[0mmapped\u001b[0m \u001b[0;34m=\u001b[0m \u001b[0mlib\u001b[0m\u001b[0;34m.\u001b[0m\u001b[0mmap_infer\u001b[0m\u001b[0;34m(\u001b[0m\u001b[0mvalues\u001b[0m\u001b[0;34m,\u001b[0m \u001b[0mf\u001b[0m\u001b[0;34m,\u001b[0m \u001b[0mconvert\u001b[0m\u001b[0;34m=\u001b[0m\u001b[0mconvert_dtype\u001b[0m\u001b[0;34m)\u001b[0m\u001b[0;34m\u001b[0m\u001b[0m\n\u001b[0m\u001b[1;32m   2552\u001b[0m \u001b[0;34m\u001b[0m\u001b[0m\n\u001b[1;32m   2553\u001b[0m         \u001b[0;32mif\u001b[0m \u001b[0mlen\u001b[0m\u001b[0;34m(\u001b[0m\u001b[0mmapped\u001b[0m\u001b[0;34m)\u001b[0m \u001b[0;32mand\u001b[0m \u001b[0misinstance\u001b[0m\u001b[0;34m(\u001b[0m\u001b[0mmapped\u001b[0m\u001b[0;34m[\u001b[0m\u001b[0;36m0\u001b[0m\u001b[0;34m]\u001b[0m\u001b[0;34m,\u001b[0m \u001b[0mSeries\u001b[0m\u001b[0;34m)\u001b[0m\u001b[0;34m:\u001b[0m\u001b[0;34m\u001b[0m\u001b[0m\n",
      "\u001b[0;32mpandas/_libs/src/inference.pyx\u001b[0m in \u001b[0;36mpandas._libs.lib.map_infer\u001b[0;34m()\u001b[0m\n",
      "\u001b[0;32m<ipython-input-184-94cce4b419a3>\u001b[0m in \u001b[0;36mmapSite\u001b[0;34m(row)\u001b[0m\n\u001b[1;32m     35\u001b[0m     \u001b[0;31m# add tss sites and tss distance to the eqtm file\u001b[0m\u001b[0;34m\u001b[0m\u001b[0;34m\u001b[0m\u001b[0m\n\u001b[1;32m     36\u001b[0m     \u001b[0;32mdef\u001b[0m \u001b[0mmapSite\u001b[0m\u001b[0;34m(\u001b[0m\u001b[0mrow\u001b[0m\u001b[0;34m)\u001b[0m\u001b[0;34m:\u001b[0m\u001b[0;34m\u001b[0m\u001b[0m\n\u001b[0;32m---> 37\u001b[0;31m         \u001b[0;32mreturn\u001b[0m \u001b[0mgroupbyTss\u001b[0m\u001b[0;34m.\u001b[0m\u001b[0mloc\u001b[0m\u001b[0;34m[\u001b[0m\u001b[0mrow\u001b[0m\u001b[0;34m]\u001b[0m\u001b[0;34m[\u001b[0m\u001b[0;34m'TssSite'\u001b[0m\u001b[0;34m]\u001b[0m\u001b[0;34m\u001b[0m\u001b[0m\n\u001b[0m\u001b[1;32m     38\u001b[0m     \u001b[0;32mdef\u001b[0m \u001b[0mcalculateDis\u001b[0m\u001b[0;34m(\u001b[0m\u001b[0mrow\u001b[0m\u001b[0;34m)\u001b[0m\u001b[0;34m:\u001b[0m\u001b[0;34m\u001b[0m\u001b[0m\n\u001b[1;32m     39\u001b[0m         \u001b[0;32mreturn\u001b[0m \u001b[0mabs\u001b[0m\u001b[0;34m(\u001b[0m\u001b[0mrow\u001b[0m\u001b[0;34m[\u001b[0m\u001b[0;36m0\u001b[0m\u001b[0;34m]\u001b[0m\u001b[0;34m-\u001b[0m\u001b[0mrow\u001b[0m\u001b[0;34m[\u001b[0m\u001b[0;36m1\u001b[0m\u001b[0;34m]\u001b[0m\u001b[0;34m)\u001b[0m\u001b[0;34m\u001b[0m\u001b[0m\n",
      "\u001b[0;32m~/.pyenv/versions/3.6.3/envs/py3/lib/python3.6/site-packages/pandas/core/indexing.py\u001b[0m in \u001b[0;36m__getitem__\u001b[0;34m(self, key)\u001b[0m\n\u001b[1;32m   1371\u001b[0m \u001b[0;34m\u001b[0m\u001b[0m\n\u001b[1;32m   1372\u001b[0m             \u001b[0mmaybe_callable\u001b[0m \u001b[0;34m=\u001b[0m \u001b[0mcom\u001b[0m\u001b[0;34m.\u001b[0m\u001b[0m_apply_if_callable\u001b[0m\u001b[0;34m(\u001b[0m\u001b[0mkey\u001b[0m\u001b[0;34m,\u001b[0m \u001b[0mself\u001b[0m\u001b[0;34m.\u001b[0m\u001b[0mobj\u001b[0m\u001b[0;34m)\u001b[0m\u001b[0;34m\u001b[0m\u001b[0m\n\u001b[0;32m-> 1373\u001b[0;31m             \u001b[0;32mreturn\u001b[0m \u001b[0mself\u001b[0m\u001b[0;34m.\u001b[0m\u001b[0m_getitem_axis\u001b[0m\u001b[0;34m(\u001b[0m\u001b[0mmaybe_callable\u001b[0m\u001b[0;34m,\u001b[0m \u001b[0maxis\u001b[0m\u001b[0;34m=\u001b[0m\u001b[0maxis\u001b[0m\u001b[0;34m)\u001b[0m\u001b[0;34m\u001b[0m\u001b[0m\n\u001b[0m\u001b[1;32m   1374\u001b[0m \u001b[0;34m\u001b[0m\u001b[0m\n\u001b[1;32m   1375\u001b[0m     \u001b[0;32mdef\u001b[0m \u001b[0m_is_scalar_access\u001b[0m\u001b[0;34m(\u001b[0m\u001b[0mself\u001b[0m\u001b[0;34m,\u001b[0m \u001b[0mkey\u001b[0m\u001b[0;34m)\u001b[0m\u001b[0;34m:\u001b[0m\u001b[0;34m\u001b[0m\u001b[0m\n",
      "\u001b[0;32m~/.pyenv/versions/3.6.3/envs/py3/lib/python3.6/site-packages/pandas/core/indexing.py\u001b[0m in \u001b[0;36m_getitem_axis\u001b[0;34m(self, key, axis)\u001b[0m\n\u001b[1;32m   1625\u001b[0m         \u001b[0;31m# fall thru to straight lookup\u001b[0m\u001b[0;34m\u001b[0m\u001b[0;34m\u001b[0m\u001b[0m\n\u001b[1;32m   1626\u001b[0m         \u001b[0mself\u001b[0m\u001b[0;34m.\u001b[0m\u001b[0m_has_valid_type\u001b[0m\u001b[0;34m(\u001b[0m\u001b[0mkey\u001b[0m\u001b[0;34m,\u001b[0m \u001b[0maxis\u001b[0m\u001b[0;34m)\u001b[0m\u001b[0;34m\u001b[0m\u001b[0m\n\u001b[0;32m-> 1627\u001b[0;31m         \u001b[0;32mreturn\u001b[0m \u001b[0mself\u001b[0m\u001b[0;34m.\u001b[0m\u001b[0m_get_label\u001b[0m\u001b[0;34m(\u001b[0m\u001b[0mkey\u001b[0m\u001b[0;34m,\u001b[0m \u001b[0maxis\u001b[0m\u001b[0;34m=\u001b[0m\u001b[0maxis\u001b[0m\u001b[0;34m)\u001b[0m\u001b[0;34m\u001b[0m\u001b[0m\n\u001b[0m\u001b[1;32m   1628\u001b[0m \u001b[0;34m\u001b[0m\u001b[0m\n\u001b[1;32m   1629\u001b[0m \u001b[0;34m\u001b[0m\u001b[0m\n",
      "\u001b[0;32m~/.pyenv/versions/3.6.3/envs/py3/lib/python3.6/site-packages/pandas/core/indexing.py\u001b[0m in \u001b[0;36m_get_label\u001b[0;34m(self, label, axis)\u001b[0m\n\u001b[1;32m    143\u001b[0m             \u001b[0;32mraise\u001b[0m \u001b[0mIndexingError\u001b[0m\u001b[0;34m(\u001b[0m\u001b[0;34m'no slices here, handle elsewhere'\u001b[0m\u001b[0;34m)\u001b[0m\u001b[0;34m\u001b[0m\u001b[0m\n\u001b[1;32m    144\u001b[0m \u001b[0;34m\u001b[0m\u001b[0m\n\u001b[0;32m--> 145\u001b[0;31m         \u001b[0;32mreturn\u001b[0m \u001b[0mself\u001b[0m\u001b[0;34m.\u001b[0m\u001b[0mobj\u001b[0m\u001b[0;34m.\u001b[0m\u001b[0m_xs\u001b[0m\u001b[0;34m(\u001b[0m\u001b[0mlabel\u001b[0m\u001b[0;34m,\u001b[0m \u001b[0maxis\u001b[0m\u001b[0;34m=\u001b[0m\u001b[0maxis\u001b[0m\u001b[0;34m)\u001b[0m\u001b[0;34m\u001b[0m\u001b[0m\n\u001b[0m\u001b[1;32m    146\u001b[0m \u001b[0;34m\u001b[0m\u001b[0m\n\u001b[1;32m    147\u001b[0m     \u001b[0;32mdef\u001b[0m \u001b[0m_get_loc\u001b[0m\u001b[0;34m(\u001b[0m\u001b[0mself\u001b[0m\u001b[0;34m,\u001b[0m \u001b[0mkey\u001b[0m\u001b[0;34m,\u001b[0m \u001b[0maxis\u001b[0m\u001b[0;34m=\u001b[0m\u001b[0;32mNone\u001b[0m\u001b[0;34m)\u001b[0m\u001b[0;34m:\u001b[0m\u001b[0;34m\u001b[0m\u001b[0m\n",
      "\u001b[0;32m~/.pyenv/versions/3.6.3/envs/py3/lib/python3.6/site-packages/pandas/core/generic.py\u001b[0m in \u001b[0;36mxs\u001b[0;34m(self, key, axis, level, drop_level)\u001b[0m\n\u001b[1;32m   2335\u001b[0m             \u001b[0;32mreturn\u001b[0m \u001b[0mself\u001b[0m\u001b[0;34m[\u001b[0m\u001b[0mkey\u001b[0m\u001b[0;34m]\u001b[0m\u001b[0;34m\u001b[0m\u001b[0m\n\u001b[1;32m   2336\u001b[0m \u001b[0;34m\u001b[0m\u001b[0m\n\u001b[0;32m-> 2337\u001b[0;31m         \u001b[0mself\u001b[0m\u001b[0;34m.\u001b[0m\u001b[0m_consolidate_inplace\u001b[0m\u001b[0;34m(\u001b[0m\u001b[0;34m)\u001b[0m\u001b[0;34m\u001b[0m\u001b[0m\n\u001b[0m\u001b[1;32m   2338\u001b[0m \u001b[0;34m\u001b[0m\u001b[0m\n\u001b[1;32m   2339\u001b[0m         \u001b[0mindex\u001b[0m \u001b[0;34m=\u001b[0m \u001b[0mself\u001b[0m\u001b[0;34m.\u001b[0m\u001b[0mindex\u001b[0m\u001b[0;34m\u001b[0m\u001b[0m\n",
      "\u001b[0;32m~/.pyenv/versions/3.6.3/envs/py3/lib/python3.6/site-packages/pandas/core/generic.py\u001b[0m in \u001b[0;36m_consolidate_inplace\u001b[0;34m(self)\u001b[0m\n\u001b[1;32m   3675\u001b[0m             \u001b[0mself\u001b[0m\u001b[0;34m.\u001b[0m\u001b[0m_data\u001b[0m \u001b[0;34m=\u001b[0m \u001b[0mself\u001b[0m\u001b[0;34m.\u001b[0m\u001b[0m_data\u001b[0m\u001b[0;34m.\u001b[0m\u001b[0mconsolidate\u001b[0m\u001b[0;34m(\u001b[0m\u001b[0;34m)\u001b[0m\u001b[0;34m\u001b[0m\u001b[0m\n\u001b[1;32m   3676\u001b[0m \u001b[0;34m\u001b[0m\u001b[0m\n\u001b[0;32m-> 3677\u001b[0;31m         \u001b[0mself\u001b[0m\u001b[0;34m.\u001b[0m\u001b[0m_protect_consolidate\u001b[0m\u001b[0;34m(\u001b[0m\u001b[0mf\u001b[0m\u001b[0;34m)\u001b[0m\u001b[0;34m\u001b[0m\u001b[0m\n\u001b[0m\u001b[1;32m   3678\u001b[0m \u001b[0;34m\u001b[0m\u001b[0m\n\u001b[1;32m   3679\u001b[0m     \u001b[0;32mdef\u001b[0m \u001b[0m_consolidate\u001b[0m\u001b[0;34m(\u001b[0m\u001b[0mself\u001b[0m\u001b[0;34m,\u001b[0m \u001b[0minplace\u001b[0m\u001b[0;34m=\u001b[0m\u001b[0;32mFalse\u001b[0m\u001b[0;34m)\u001b[0m\u001b[0;34m:\u001b[0m\u001b[0;34m\u001b[0m\u001b[0m\n",
      "\u001b[0;32m~/.pyenv/versions/3.6.3/envs/py3/lib/python3.6/site-packages/pandas/core/generic.py\u001b[0m in \u001b[0;36m_protect_consolidate\u001b[0;34m(self, f)\u001b[0m\n\u001b[1;32m   3664\u001b[0m         \"\"\"\n\u001b[1;32m   3665\u001b[0m         \u001b[0mblocks_before\u001b[0m \u001b[0;34m=\u001b[0m \u001b[0mlen\u001b[0m\u001b[0;34m(\u001b[0m\u001b[0mself\u001b[0m\u001b[0;34m.\u001b[0m\u001b[0m_data\u001b[0m\u001b[0;34m.\u001b[0m\u001b[0mblocks\u001b[0m\u001b[0;34m)\u001b[0m\u001b[0;34m\u001b[0m\u001b[0m\n\u001b[0;32m-> 3666\u001b[0;31m         \u001b[0mresult\u001b[0m \u001b[0;34m=\u001b[0m \u001b[0mf\u001b[0m\u001b[0;34m(\u001b[0m\u001b[0;34m)\u001b[0m\u001b[0;34m\u001b[0m\u001b[0m\n\u001b[0m\u001b[1;32m   3667\u001b[0m         \u001b[0;32mif\u001b[0m \u001b[0mlen\u001b[0m\u001b[0;34m(\u001b[0m\u001b[0mself\u001b[0m\u001b[0;34m.\u001b[0m\u001b[0m_data\u001b[0m\u001b[0;34m.\u001b[0m\u001b[0mblocks\u001b[0m\u001b[0;34m)\u001b[0m \u001b[0;34m!=\u001b[0m \u001b[0mblocks_before\u001b[0m\u001b[0;34m:\u001b[0m\u001b[0;34m\u001b[0m\u001b[0m\n\u001b[1;32m   3668\u001b[0m             \u001b[0mself\u001b[0m\u001b[0;34m.\u001b[0m\u001b[0m_clear_item_cache\u001b[0m\u001b[0;34m(\u001b[0m\u001b[0;34m)\u001b[0m\u001b[0;34m\u001b[0m\u001b[0m\n",
      "\u001b[0;32m~/.pyenv/versions/3.6.3/envs/py3/lib/python3.6/site-packages/pandas/core/generic.py\u001b[0m in \u001b[0;36mf\u001b[0;34m()\u001b[0m\n\u001b[1;32m   3673\u001b[0m \u001b[0;34m\u001b[0m\u001b[0m\n\u001b[1;32m   3674\u001b[0m         \u001b[0;32mdef\u001b[0m \u001b[0mf\u001b[0m\u001b[0;34m(\u001b[0m\u001b[0;34m)\u001b[0m\u001b[0;34m:\u001b[0m\u001b[0;34m\u001b[0m\u001b[0m\n\u001b[0;32m-> 3675\u001b[0;31m             \u001b[0mself\u001b[0m\u001b[0;34m.\u001b[0m\u001b[0m_data\u001b[0m \u001b[0;34m=\u001b[0m \u001b[0mself\u001b[0m\u001b[0;34m.\u001b[0m\u001b[0m_data\u001b[0m\u001b[0;34m.\u001b[0m\u001b[0mconsolidate\u001b[0m\u001b[0;34m(\u001b[0m\u001b[0;34m)\u001b[0m\u001b[0;34m\u001b[0m\u001b[0m\n\u001b[0m\u001b[1;32m   3676\u001b[0m \u001b[0;34m\u001b[0m\u001b[0m\n\u001b[1;32m   3677\u001b[0m         \u001b[0mself\u001b[0m\u001b[0;34m.\u001b[0m\u001b[0m_protect_consolidate\u001b[0m\u001b[0;34m(\u001b[0m\u001b[0mf\u001b[0m\u001b[0;34m)\u001b[0m\u001b[0;34m\u001b[0m\u001b[0m\n",
      "\u001b[0;32m~/.pyenv/versions/3.6.3/envs/py3/lib/python3.6/site-packages/pandas/core/internals.py\u001b[0m in \u001b[0;36mconsolidate\u001b[0;34m(self)\u001b[0m\n\u001b[1;32m   3811\u001b[0m         \u001b[0;32mreturn\u001b[0m \u001b[0mresult\u001b[0m\u001b[0;34m\u001b[0m\u001b[0m\n\u001b[1;32m   3812\u001b[0m \u001b[0;34m\u001b[0m\u001b[0m\n\u001b[0;32m-> 3813\u001b[0;31m     \u001b[0;32mdef\u001b[0m \u001b[0mconsolidate\u001b[0m\u001b[0;34m(\u001b[0m\u001b[0mself\u001b[0m\u001b[0;34m)\u001b[0m\u001b[0;34m:\u001b[0m\u001b[0;34m\u001b[0m\u001b[0m\n\u001b[0m\u001b[1;32m   3814\u001b[0m         \"\"\"\n\u001b[1;32m   3815\u001b[0m         \u001b[0mJoin\u001b[0m \u001b[0mtogether\u001b[0m \u001b[0mblocks\u001b[0m \u001b[0mhaving\u001b[0m \u001b[0msame\u001b[0m \u001b[0mdtype\u001b[0m\u001b[0;34m\u001b[0m\u001b[0m\n",
      "\u001b[0;31mKeyboardInterrupt\u001b[0m: "
     ]
    }
   ],
   "source": [
    "tss_raw_path = os.path.join(PROJECT_DIR,'data','TSSdistance','Homo_sapiens.GRCh37.71.gtf')\n",
    "eQTM_path = os.path.join(PROJECT_DIR,'data',\n",
    "                         'eqtmZscores','2017-12-09-eQTLsFDR-gt0.05-flipped.txt')\n",
    "save_path = os.path.join(PROJECT_DIR,'data','output','gt0.05-eQTMwithZscoreTssDistance.csv')\n",
    "addTssDistance2eQTMwithZscoreFile(eQTM_path,tss_raw_path,save_path)"
   ]
  },
  {
   "cell_type": "code",
   "execution_count": null,
   "metadata": {},
   "outputs": [],
   "source": []
  }
 ],
 "metadata": {
  "kernelspec": {
   "display_name": "Python 3",
   "language": "python",
   "name": "python3"
  },
  "language_info": {
   "codemirror_mode": {
    "name": "ipython",
    "version": 3
   },
   "file_extension": ".py",
   "mimetype": "text/x-python",
   "name": "python",
   "nbconvert_exporter": "python",
   "pygments_lexer": "ipython3",
   "version": "3.6.3"
  }
 },
 "nbformat": 4,
 "nbformat_minor": 2
}
