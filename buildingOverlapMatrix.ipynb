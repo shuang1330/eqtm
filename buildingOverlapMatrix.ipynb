{
 "cells": [
  {
   "cell_type": "code",
   "execution_count": 41,
   "metadata": {},
   "outputs": [],
   "source": [
    "import os\n",
    "import numpy as np\n",
    "import pandas as pd\n",
    "import gzip\n",
    "import shlex, subprocess\n",
    "PROJECT_DIR = '/home/shuang/projects/eqtm'\n",
    "feature_folder = os.path.join(PROJECT_DIR,'data','RoadmapFeatureSamples')\n",
    "cpg_folder = os.path.join(PROJECT_DIR,'data','eqtmZscores')\n",
    "# folder for intermediate results\n",
    "temp_folder = os.path.join(PROJECT_DIR,'data','temp')\n",
    "temp_cpgFolder = os.path.join(temp_folder,'cpg')\n",
    "temp_featureFolder = os.path.join(temp_folder,'features')\n",
    "temp_output = os.path.join(temp_folder,'output')\n",
    "folder_lists = [temp_folder,temp_cpgFolder,temp_featureFolder,temp_output]\n",
    "for folder in folder_lists:\n",
    "    if not os.path.exists(folder):\n",
    "        os.makedirs(folder)"
   ]
  },
  {
   "cell_type": "code",
   "execution_count": 51,
   "metadata": {},
   "outputs": [
    {
     "name": "stdout",
     "output_type": "stream",
     "text": [
      "Saved feature list to path: \n",
      "/home/shuang/projects/eqtm/data/RoadmapFeatureSamples/feature_list.txt\n"
     ]
    }
   ],
   "source": [
    "# create and save a feature list\n",
    "feature_list = []\n",
    "feature_list_savepath = os.path.join(feature_folder,'feature_list.txt')\n",
    "feature_f = open(feature_list_savepath,'w')\n",
    "for name in os.listdir(feature_folder):\n",
    "    if name.endswith('gz'):\n",
    "        feature_name = name.split('.')[0]\n",
    "        feature_list.append(feature_name)\n",
    "        feature_f.write('%s\\n'%feature_name) # write to a feature list file\n",
    "feature_f.close()\n",
    "print('Saved feature list to path: \\n%s'%feature_list_savepath)"
   ]
  },
  {
   "cell_type": "code",
   "execution_count": 54,
   "metadata": {
    "scrolled": false
   },
   "outputs": [],
   "source": [
    "# read from the feature list file\n",
    "feature_list = []\n",
    "feature_list_path = os.path.join(feature_folder,'feature_list.txt')\n",
    "with open(feature_list_path,'r') as f:\n",
    "    for line in f.readlines():\n",
    "        feature_list.append(line.strip())\n",
    "if 'feature_list' in feature_list:\n",
    "    print('There should not be a item called feature list.')"
   ]
  },
  {
   "cell_type": "code",
   "execution_count": 45,
   "metadata": {},
   "outputs": [
    {
     "name": "stdout",
     "output_type": "stream",
     "text": [
      "Saved the cpg file in bedtools format in path: \n",
      "/home/shuang/projects/eqtm/data/temp/cpg/cpg_bedtoolsFormat_bonder.tsv\n",
      "Hey, please check the saved file:\n",
      "       0       1       2\n",
      "0  chr1  839410  839460\n",
      "1  chr1  839679  839729\n",
      "2  chr1  861813  861863\n",
      "3  chr1  870785  870835\n",
      "4  chr1  870885  870935\n"
     ]
    }
   ],
   "source": [
    "# read cpg files\n",
    "cpg_path = os.path.join(cpg_folder,\n",
    "                        'bonder-eQTMsFDR0.0-CpGLevel-split.txt')\n",
    "cpg = pd.read_csv(cpg_path,sep='\\t')\n",
    "cpg['startSite'] = cpg['SNPChrPos']-25\n",
    "cpg['endSite'] = cpg['SNPChrPos']+25\n",
    "cpg['chr'] = cpg['SNPChr'].apply(lambda x:'chr{}'.format(str(x)))\n",
    "# create the cpg file with bedtools format\n",
    "cpg_bedtoolFormat_path = os.path.join(temp_cpgFolder,'cpg_bedtoolsFormat_bonder.tsv')\n",
    "cpg = cpg.sort_values(by=['SNPChr','startSite'])\n",
    "cpg[['chr','startSite','endSite']].to_csv(cpg_bedtoolFormat_path,\n",
    "                                          header=False,index=False,\n",
    "                                          sep='\\t')\n",
    "print('Saved the cpg file in bedtools format in path: \\n%s'%cpg_bedtoolFormat_path)\n",
    "# check the saved cpg file\n",
    "def check_cpg():\n",
    "    check_cpg = pd.read_csv(cpg_bedtoolFormat_path,sep='\\t',header=None)\n",
    "    print('Hey, please check the saved file:\\n',check_cpg.head())\n",
    "check_cpg()"
   ]
  },
  {
   "cell_type": "code",
   "execution_count": 56,
   "metadata": {
    "scrolled": true
   },
   "outputs": [
    {
     "name": "stdout",
     "output_type": "stream",
     "text": [
      "Build the overlap matrix for feature: E065-H2BK5ac\n",
      "Build the overlap matrix for feature: E065-H4K8ac\n",
      "Build the overlap matrix for feature: E065-H2BK15ac\n",
      "Build the overlap matrix for feature: E065-H2AK5ac\n",
      "Build the overlap matrix for feature: E129-H3K56ac\n",
      "Build the overlap matrix for feature: E129-H4K91ac\n",
      "Build the overlap matrix for feature: E066-H3K27ac\n",
      "Build the overlap matrix for feature: E129-H2BK5ac\n",
      "Build the overlap matrix for feature: E065-H3T11ph\n",
      "Build the overlap matrix for feature: E066-H3K79me2\n",
      "Build the overlap matrix for feature: E066-H4K20me1\n",
      "Build the overlap matrix for feature: E129-H3K27me3\n",
      "Build the overlap matrix for feature: E129-H2BK15ac\n",
      "Build the overlap matrix for feature: E129-H3K4me3\n",
      "Build the overlap matrix for feature: E065-H2A\n",
      "Build the overlap matrix for feature: E065-H3K9ac\n",
      "Build the overlap matrix for feature: E065-H3K14ac\n",
      "Build the overlap matrix for feature: E065-H3K27me3\n",
      "Build the overlap matrix for feature: E065-H2AK9ac\n",
      "Build the overlap matrix for feature: E066-H2AK5ac\n",
      "Build the overlap matrix for feature: E129-H2BK120ac\n",
      "Build the overlap matrix for feature: E065-H3K4me2\n",
      "Build the overlap matrix for feature: E065-H3K4me1\n",
      "Build the overlap matrix for feature: E065-H3K79me1\n",
      "Build the overlap matrix for feature: E129-H4K12ac\n",
      "Build the overlap matrix for feature: E129-DNase\n",
      "Build the overlap matrix for feature: E129-H3K9me3\n",
      "Build the overlap matrix for feature: E066-H3K9ac\n",
      "Build the overlap matrix for feature: E129-H3K9me1\n",
      "Build the overlap matrix for feature: E129-H2AK9ac\n",
      "Build the overlap matrix for feature: E065-H3K4me3\n",
      "Build the overlap matrix for feature: E129-H3K4me2\n",
      "Build the overlap matrix for feature: E129-H3K27ac\n",
      "Build the overlap matrix for feature: E129-H3K36me3\n",
      "Build the overlap matrix for feature: E066-H2A\n",
      "Build the overlap matrix for feature: E129-H3K18ac\n",
      "Build the overlap matrix for feature: E066-H3K9me1\n",
      "Build the overlap matrix for feature: E066-H3K18ac\n",
      "Build the overlap matrix for feature: E065-H3K27ac\n",
      "Build the overlap matrix for feature: E066-H4K5ac\n",
      "Build the overlap matrix for feature: E066-H4K8ac\n",
      "Build the overlap matrix for feature: E129-H3K23me2\n",
      "Build the overlap matrix for feature: E066-H2BK20ac\n",
      "Build the overlap matrix for feature: E066-H3K4me1\n",
      "Build the overlap matrix for feature: E129-H3K4ac\n",
      "Build the overlap matrix for feature: E066-H3K4me3\n",
      "Build the overlap matrix for feature: E066-H3K56ac\n",
      "Build the overlap matrix for feature: E129-H3K4me1\n",
      "Build the overlap matrix for feature: E065-H4K5ac\n",
      "Build the overlap matrix for feature: E129-H2A\n",
      "Build the overlap matrix for feature: E129-H4K5ac\n",
      "Build the overlap matrix for feature: E066-H3K36me3\n",
      "Build the overlap matrix for feature: E065-H4K20me1\n",
      "Build the overlap matrix for feature: E129-H3K79me2\n",
      "Build the overlap matrix for feature: E066-H2BK15ac\n",
      "Build the overlap matrix for feature: E066-H3K23ac\n",
      "Build the overlap matrix for feature: E066-DNase\n",
      "Build the overlap matrix for feature: E066-H3K9me3\n",
      "Build the overlap matrix for feature: E066-H3K14ac\n",
      "Build the overlap matrix for feature: E066-H3K23me2\n",
      "Build the overlap matrix for feature: E065-H3K9me1\n",
      "Build the overlap matrix for feature: E065-H2BK20ac\n",
      "Build the overlap matrix for feature: E065-H4K91ac\n",
      "Build the overlap matrix for feature: E066-H3K27me3\n",
      "Build the overlap matrix for feature: E066-H3K4ac\n",
      "Build the overlap matrix for feature: E066-H4K12ac\n",
      "Build the overlap matrix for feature: E065-H3K9me3\n",
      "Build the overlap matrix for feature: E129-H4K8ac\n",
      "Build the overlap matrix for feature: E066-H3T11ph\n",
      "Build the overlap matrix for feature: E065-H3K36me3\n",
      "Build the overlap matrix for feature: E129-H2BK12ac\n",
      "Build the overlap matrix for feature: E129-H3K9ac\n",
      "Build the overlap matrix for feature: E129-H3K23ac\n",
      "Build the overlap matrix for feature: E066-H4K91ac\n",
      "Build the overlap matrix for feature: E129-H3K79me1\n",
      "Build the overlap matrix for feature: E066-H2BK12ac\n",
      "Build the overlap matrix for feature: E129-H4K20me1\n",
      "Build the overlap matrix for feature: E065-H2BK120ac\n",
      "Build the overlap matrix for feature: E065-H4K12ac\n",
      "Build the overlap matrix for feature: E129-H2AK5ac\n",
      "Build the overlap matrix for feature: E065-H3K4ac\n",
      "Build the overlap matrix for feature: E065-H3K23me2\n",
      "Build the overlap matrix for feature: E129-H3K14ac\n",
      "Build the overlap matrix for feature: E066-H2AK9ac\n",
      "Build the overlap matrix for feature: E065-H2BK12ac\n",
      "Build the overlap matrix for feature: E066-H3K4me2\n",
      "Build the overlap matrix for feature: E066-H2BK5ac\n",
      "Build the overlap matrix for feature: E065-H3K18ac\n",
      "Build the overlap matrix for feature: E065-H3K79me2\n",
      "Build the overlap matrix for feature: E065-H3K23ac\n",
      "Build the overlap matrix for feature: E066-H2BK120ac\n",
      "Build the overlap matrix for feature: E065-H3K56ac\n",
      "Build the overlap matrix for feature: E065-DNase\n",
      "Build the overlap matrix for feature: E066-H3K79me1\n",
      "Build the overlap matrix for feature: E129-H3T11ph\n",
      "Build the overlap matrix for feature: E129-H2BK20ac\n"
     ]
    }
   ],
   "source": [
    "findOverlap_path = os.path.join(PROJECT_DIR,'findOverlap.sh')\n",
    "for feature in feature_list:\n",
    "    subprocess.check_call([findOverlap_path, '%s'%feature, '%s'%(cpg_bedtoolFormat_path.split('.')[0])])\n",
    "    print('Build the overlap matrix for feature: %s'%feature)"
   ]
  },
  {
   "cell_type": "code",
   "execution_count": null,
   "metadata": {
    "scrolled": true
   },
   "outputs": [],
   "source": []
  },
  {
   "cell_type": "code",
   "execution_count": null,
   "metadata": {},
   "outputs": [],
   "source": []
  }
 ],
 "metadata": {
  "kernelspec": {
   "display_name": "Python 3",
   "language": "python",
   "name": "python3"
  },
  "language_info": {
   "codemirror_mode": {
    "name": "ipython",
    "version": 3
   },
   "file_extension": ".py",
   "mimetype": "text/x-python",
   "name": "python",
   "nbconvert_exporter": "python",
   "pygments_lexer": "ipython3",
   "version": "3.6.3"
  }
 },
 "nbformat": 4,
 "nbformat_minor": 2
}
