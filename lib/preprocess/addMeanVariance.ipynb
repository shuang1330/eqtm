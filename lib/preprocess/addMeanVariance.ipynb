{
 "cells": [
  {
   "cell_type": "code",
   "execution_count": 1,
   "metadata": {},
   "outputs": [],
   "source": [
    "import os\n",
    "import pandas as pd"
   ]
  },
  {
   "cell_type": "markdown",
   "metadata": {},
   "source": [
    "# for eqtm files with overlapRatio and TSS distance and already for modelling "
   ]
  },
  {
   "cell_type": "code",
   "execution_count": 2,
   "metadata": {},
   "outputs": [],
   "source": [
    "PROJECT_DIR = '/home/shuang/projects/eqtm'\n",
    "cpg_folder = os.path.join(PROJECT_DIR,'data',\n",
    "                          'dataReadyForModeling','overlapRatioTss')\n",
    "final_cpg_folder = os.path.join(PROJECT_DIR,'data',\n",
    "                                'dataReadyForModeling','overlapRatioTssMeanVar')\n",
    "meanVar_filepath = os.path.join(PROJECT_DIR,'data',\n",
    "                                'eqtmZscores',\n",
    "                                'methylation-MeanAndVarianceRows.txt')"
   ]
  },
  {
   "cell_type": "code",
   "execution_count": 3,
   "metadata": {},
   "outputs": [
    {
     "name": "stdout",
     "output_type": "stream",
     "text": [
      "Done reading the mean variance file.\n"
     ]
    }
   ],
   "source": [
    "def read_meanVar_asDic(meanVar_filepath):\n",
    "    meanVar = pd.read_csv(meanVar_filepath,sep='\\t')\n",
    "    meanVar_dic = meanVar[['ID','Mean','Var']].set_index('ID').T.to_dict('list')\n",
    "    return meanVar_dic\n",
    "\n",
    "dic = read_meanVar_asDic(meanVar_filepath)\n",
    "# print(dic)\n",
    "print('Done reading the mean variance file.')\n"
   ]
  },
  {
   "cell_type": "code",
   "execution_count": 33,
   "metadata": {},
   "outputs": [],
   "source": [
    "def findMean(row):\n",
    "    if row in dic:\n",
    "        return dic[row][0]\n",
    "    else:\n",
    "        print('Cpg not found. Return None.')\n",
    "        return None\n",
    "\n",
    "def findVar(row):\n",
    "    if row in dic:\n",
    "        return dic[row][1]\n",
    "    else:\n",
    "        print('Cpg not found. Return None.')\n",
    "        return None\n"
   ]
  },
  {
   "cell_type": "code",
   "execution_count": 34,
   "metadata": {
    "scrolled": false
   },
   "outputs": [
    {
     "name": "stdout",
     "output_type": "stream",
     "text": [
      "Processing the datafile gtCpG_withZscoreTss.csv.\n",
      "Adding the mean value.\n",
      "Adding the variance.\n",
      "Done adding the mean and variance. Please check below:\n",
      "   cpgName_split    zscore  methyMean  methyVar\n",
      "0    cg23100540 -3.787161  -0.010386  1.191573\n",
      "1    cg06154531 -3.608266   0.006865  0.360727\n",
      "2    cg12549180  4.377711   0.000093  0.154530\n",
      "3    cg12549180 -3.894431   0.000093  0.154530\n",
      "4    cg12549180 -3.864957   0.000093  0.154530\n",
      "Saved gtCpG_withZscoreTss file to path /home/shuang/projects/eqtm/data/dataReadyForModeling/overlapRatioTssMeanVar/gtCpG_withZscoreTss_withMeanVar.csv.\n",
      "Processing the datafile westra_all_with_zscore.csv.\n",
      "Adding the mean value.\n",
      "Adding the variance.\n",
      "Done adding the mean and variance. Please check below:\n",
      "   cpgName_split     zscore  methyMean  methyVar\n",
      "0    cg23733394   6.245136  -0.021549  7.941255\n",
      "1    cg05819296   6.393335  -0.016714  0.751619\n",
      "2    cg13904806   7.667942  -0.014658  4.957914\n",
      "3    cg03269716   7.299347  -0.005465  0.789898\n",
      "4    cg01394461 -10.538496  -0.000227  0.373715\n",
      "Saved westra_all_with_zscore file to path /home/shuang/projects/eqtm/data/dataReadyForModeling/overlapRatioTssMeanVar/westra_all_with_zscore_withMeanVar.csv.\n",
      "Processing the datafile Newbonder_withzscore.csv.\n",
      "Adding the mean value.\n",
      "Adding the variance.\n",
      "Done adding the mean and variance. Please check below:\n",
      "   cpgName_split    zscore  methyMean  methyVar\n",
      "0    cg08128007  6.721807   0.000958  1.396378\n",
      "1    cg23733394  7.517455  -0.021549  7.941255\n",
      "2    cg13856810  5.672401  -0.003428  0.548020\n",
      "3    cg06624358  5.745242   0.010245  2.728156\n",
      "4    cg14156792  7.106451  -0.008250  4.028763\n",
      "Saved Newbonder_withzscore file to path /home/shuang/projects/eqtm/data/dataReadyForModeling/overlapRatioTssMeanVar/Newbonder_withzscore_withMeanVar.csv.\n",
      "Processing the datafile Newwestra_bonderfeat_with_zscore.csv.\n",
      "Adding the mean value.\n",
      "Adding the variance.\n",
      "Done adding the mean and variance. Please check below:\n",
      "   cpgName_split     zscore  methyMean  methyVar\n",
      "0    cg23733394   6.245136  -0.021549  7.941255\n",
      "1    cg05819296   6.393335  -0.016714  0.751619\n",
      "2    cg13904806   7.667942  -0.014658  4.957914\n",
      "3    cg03269716   7.299347  -0.005465  0.789898\n",
      "4    cg01394461 -10.538496  -0.000227  0.373715\n",
      "Saved Newwestra_bonderfeat_with_zscore file to path /home/shuang/projects/eqtm/data/dataReadyForModeling/overlapRatioTssMeanVar/Newwestra_bonderfeat_with_zscore_withMeanVar.csv.\n",
      "Processing the datafile bonder_withZscoreAndNonLinear.csv.\n",
      "Adding the mean value.\n",
      "Adding the variance.\n",
      "Done adding the mean and variance. Please check below:\n",
      "   cpgName_split    zscore  methyMean  methyVar\n",
      "0    cg08128007  6.721807   0.000958  1.396378\n",
      "1    cg23733394  7.517455  -0.021549  7.941255\n",
      "2    cg13856810  5.672401  -0.003428  0.548020\n",
      "3    cg06624358  5.745242   0.010245  2.728156\n",
      "4    cg14156792  7.106451  -0.008250  4.028763\n",
      "Saved bonder_withZscoreAndNonLinear file to path /home/shuang/projects/eqtm/data/dataReadyForModeling/overlapRatioTssMeanVar/bonder_withZscoreAndNonLinear_withMeanVar.csv.\n",
      "Processing the datafile bonder_withzscore.csv.\n",
      "Adding the mean value.\n",
      "Adding the variance.\n",
      "Done adding the mean and variance. Please check below:\n",
      "   cpgName_split    zscore  methyMean  methyVar\n",
      "0    cg08128007  6.721807   0.000958  1.396378\n",
      "1    cg23733394  7.517455  -0.021549  7.941255\n",
      "2    cg13856810  5.672401  -0.003428  0.548020\n",
      "3    cg06624358  5.745242   0.010245  2.728156\n",
      "4    cg14156792  7.106451  -0.008250  4.028763\n",
      "Saved bonder_withzscore file to path /home/shuang/projects/eqtm/data/dataReadyForModeling/overlapRatioTssMeanVar/bonder_withzscore_withMeanVar.csv.\n",
      "Processing the datafile Newwestra_all_with_zscore.csv.\n",
      "Adding the mean value.\n",
      "Adding the variance.\n",
      "Done adding the mean and variance. Please check below:\n",
      "   cpgName_split     zscore  methyMean  methyVar\n",
      "0    cg23733394   6.245136  -0.021549  7.941255\n",
      "1    cg05819296   6.393335  -0.016714  0.751619\n",
      "2    cg13904806   7.667942  -0.014658  4.957914\n",
      "3    cg03269716   7.299347  -0.005465  0.789898\n",
      "4    cg01394461 -10.538496  -0.000227  0.373715\n",
      "Saved Newwestra_all_with_zscore file to path /home/shuang/projects/eqtm/data/dataReadyForModeling/overlapRatioTssMeanVar/Newwestra_all_with_zscore_withMeanVar.csv.\n",
      "Processing the datafile etCpG_withZscoreTss.csv.\n",
      "Adding the mean value.\n",
      "Adding the variance.\n",
      "Done adding the mean and variance. Please check below:\n",
      "   cpgName_split     zscore  methyMean  methyVar\n",
      "0    cg00582671  -6.301915   0.006383  0.344299\n",
      "1    cg00582671   6.256673   0.006383  0.344299\n",
      "2    cg12257384  -9.143838  -0.002701  1.428051\n",
      "3    cg20062691 -12.100059  -0.003100  0.978034\n",
      "4    cg03811829  -6.268140  -0.005121  1.039517\n",
      "Saved etCpG_withZscoreTss file to path /home/shuang/projects/eqtm/data/dataReadyForModeling/overlapRatioTssMeanVar/etCpG_withZscoreTss_withMeanVar.csv.\n",
      "Processing the datafile westra_bonderfeat_with_zscore.csv.\n",
      "Adding the mean value.\n",
      "Adding the variance.\n",
      "Done adding the mean and variance. Please check below:\n",
      "   cpgName_split     zscore  methyMean  methyVar\n",
      "0    cg23733394   6.245136  -0.021549  7.941255\n",
      "1    cg05819296   6.393335  -0.016714  0.751619\n",
      "2    cg13904806   7.667942  -0.014658  4.957914\n",
      "3    cg03269716   7.299347  -0.005465  0.789898\n",
      "4    cg01394461 -10.538496  -0.000227  0.373715\n",
      "Saved westra_bonderfeat_with_zscore file to path /home/shuang/projects/eqtm/data/dataReadyForModeling/overlapRatioTssMeanVar/westra_bonderfeat_with_zscore_withMeanVar.csv.\n"
     ]
    }
   ],
   "source": [
    "for cpg_filename in os.listdir(cpg_folder):\n",
    "    if cpg_filename.endswith('.csv'):\n",
    "        print(\"Processing the datafile %s.\"%cpg_filename)\n",
    "        cpg_filepath = os.path.join(cpg_folder,cpg_filename)\n",
    "        cpg = pd.read_csv(cpg_filepath,sep=',')\n",
    "        print(\"Adding the mean value.\")\n",
    "\n",
    "        # split the cpg_probe name into cpg + probe\n",
    "        cpg['cpgName_split'] = cpg['cpgName'].str.split('_').str[0]\n",
    "    #     print(cpg[['cpgName','cpgName_split']].head())\n",
    "        cpg['methyMean'] = cpg['cpgName_split'].apply(findMean)\n",
    "        print(\"Adding the variance.\")\n",
    "        cpg['methyVar'] = cpg['cpgName_split'].apply(findVar)\n",
    "        print(\"Done adding the mean and variance. Please check below:\\n\",\n",
    "              cpg[['cpgName_split','zscore','methyMean','methyVar']].head())\n",
    "        cpg_name = '.'.join(cpg_filename.split('.')[:-1])\n",
    "        final_res_filepath = os.path.join(final_cpg_folder,cpg_name+'_withMeanVar.csv')\n",
    "        cpg.to_csv(final_res_filepath,index=False)\n",
    "        print('Saved %s file to path %s.'%(cpg_name,final_res_filepath))"
   ]
  },
  {
   "cell_type": "code",
   "execution_count": null,
   "metadata": {},
   "outputs": [],
   "source": []
  }
 ],
 "metadata": {
  "kernelspec": {
   "display_name": "Python 3",
   "language": "python",
   "name": "python3"
  },
  "language_info": {
   "codemirror_mode": {
    "name": "ipython",
    "version": 3
   },
   "file_extension": ".py",
   "mimetype": "text/x-python",
   "name": "python",
   "nbconvert_exporter": "python",
   "pygments_lexer": "ipython3",
   "version": "3.6.3"
  }
 },
 "nbformat": 4,
 "nbformat_minor": 2
}
