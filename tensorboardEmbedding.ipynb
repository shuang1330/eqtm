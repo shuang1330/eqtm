{
 "cells": [
  {
   "cell_type": "code",
   "execution_count": 11,
   "metadata": {},
   "outputs": [],
   "source": [
    "import numpy as np\n",
    "import pandas as pd\n",
    "import pickle\n",
    "import os\n",
    "from lib.read_data import dataset,Datasets,readDataWithRawScore\n",
    "from math import copysign\n",
    "import tensorflow as tf\n",
    "from tensorflow.contrib.tensorboard.plugins import projector\n",
    "# plot\n",
    "import matplotlib.pyplot as plt\n",
    "% matplotlib inline\n",
    "\n",
    "PROJECT_DIR = '/home/shuang/projects/eqtm/projector_withNonLinear'"
   ]
  },
  {
   "cell_type": "code",
   "execution_count": 2,
   "metadata": {},
   "outputs": [],
   "source": [
    "def generate_metadata(labels,save_path):\n",
    "    with open(save_path,'w') as f:\n",
    "        for i in range(labels.shape[0]):\n",
    "            f.write('{}\\n'.format(int(labels.loc[i,])))"
   ]
  },
  {
   "cell_type": "code",
   "execution_count": 5,
   "metadata": {},
   "outputs": [],
   "source": [
    "def generate_embedding(datapoints):\n",
    "    sess = tf.InteractiveSession()\n",
    "    with tf.device(\"/cpu:0\"):\n",
    "        embedding = tf.Variable(tf.stack(datapoints,axis=0),\n",
    "                                trainable=False,\n",
    "                                name='embedding')\n",
    "    tf.global_variables_initializer().run()\n",
    "    saver = tf.train.Saver()\n",
    "    writer = tf.summary.FileWriter(PROJECT_DIR, sess.graph)\n",
    "    \n",
    "    config = projector.ProjectorConfig()\n",
    "    embed= config.embeddings.add()\n",
    "    embed.tensor_name = 'embedding:0'\n",
    "    embed.metadata_path = os.path.join(PROJECT_DIR,'metadata.tsv')\n",
    "    \n",
    "    projector.visualize_embeddings(writer, config)\n",
    "    saver.save(sess,\n",
    "               os.path.join(PROJECT_DIR,'a_model.ckpt'),\n",
    "               global_step=datapoints.shape[0])\n",
    "    "
   ]
  },
  {
   "cell_type": "code",
   "execution_count": 9,
   "metadata": {},
   "outputs": [
    {
     "name": "stdout",
     "output_type": "stream",
     "text": [
      "Data Normalized.\n",
      "Bonder dataset loaded. (2842, 58)\n"
     ]
    }
   ],
   "source": [
    "if __name__=='__main__':\n",
    "    \n",
    "#     def load_bonderWestraData(path,test_size=0.25):\n",
    "#         data = pd.read_csv(path,sep=',',index_col=0)\n",
    "#         def binarize(row):\n",
    "#             if row > 0:\n",
    "#                 return 1\n",
    "#             else:\n",
    "#                 return 0\n",
    "#         data['direction'] = data['zscore'].apply(binarize)\n",
    "#         print('Raw data loaded.')\n",
    "#         dataset = readDataWithRawScore(data,'direction',test_size=test_size)\n",
    "#         return dataset\n",
    "    \n",
    "    bonder_path = 'data/bonder_withZscoreAndNonLinear.csv'\n",
    "    data = pd.read_csv(bonder_path)\n",
    "    bonder = readDataWithRawScore(data,'direction',test_size=0)\n",
    "\n",
    "    print('Bonder dataset loaded.',bonder.train.values.shape)"
   ]
  },
  {
   "cell_type": "code",
   "execution_count": 12,
   "metadata": {},
   "outputs": [],
   "source": [
    "    labels = bonder.train.labels\n",
    "    save_path = os.path.join(PROJECT_DIR,'metadata.tsv')\n",
    "    generate_metadata(labels,save_path)\n",
    "    datapoints = np.array(bonder.train.values[[col for col in bonder.train.values.columns if col not in ['cpgName']]])\n",
    "    generate_embedding(datapoints)"
   ]
  },
  {
   "cell_type": "code",
   "execution_count": null,
   "metadata": {},
   "outputs": [],
   "source": []
  },
  {
   "cell_type": "code",
   "execution_count": null,
   "metadata": {},
   "outputs": [],
   "source": []
  }
 ],
 "metadata": {
  "kernelspec": {
   "display_name": "Python 3",
   "language": "python",
   "name": "python3"
  },
  "language_info": {
   "codemirror_mode": {
    "name": "ipython",
    "version": 3
   },
   "file_extension": ".py",
   "mimetype": "text/x-python",
   "name": "python",
   "nbconvert_exporter": "python",
   "pygments_lexer": "ipython3",
   "version": "3.6.3"
  }
 },
 "nbformat": 4,
 "nbformat_minor": 2
}
