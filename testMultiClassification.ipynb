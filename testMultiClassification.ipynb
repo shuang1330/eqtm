{
 "cells": [
  {
   "cell_type": "code",
   "execution_count": 21,
   "metadata": {},
   "outputs": [
    {
     "name": "stdout",
     "output_type": "stream",
     "text": [
      "generated examples to predict:\n",
      " [[72 42]\n",
      " [39 51]\n",
      " [19 57]\n",
      " [72 71]\n",
      " [79 62]] \n",
      "\n",
      "all probabilities:\n",
      "           0         1         2\n",
      "0  0.666667  0.333333  0.000000\n",
      "1  0.000000  0.000000  1.000000\n",
      "2  0.000000  0.666667  0.333333\n",
      "3  0.333333  0.333333  0.333333\n",
      "4  0.666667  0.000000  0.333333 \n",
      "\n",
      "class0 probability > 0.5:\n",
      "           0         1         2\n",
      "0  0.666667  0.333333  0.000000\n",
      "4  0.666667  0.000000  0.333333\n",
      "indexes of likely class0: [0, 4] \n",
      "\n",
      "class1 probability > 0.5:\n",
      "      0         1         2\n",
      "2  0.0  0.666667  0.333333\n",
      "indexes of likely class1: [2] \n",
      "\n",
      "class2 probability > 0.5:\n",
      "      0    1    2\n",
      "1  0.0  0.0  1.0\n",
      "indexes of likely class2: [1] \n",
      "\n"
     ]
    }
   ],
   "source": [
    "from sklearn import neighbors\n",
    "from sklearn.ensemble import RandomForestClassifier\n",
    "import pandas as pd\n",
    "import numpy as np\n",
    "number_of_classes = 3  # number of possible classes\n",
    "number_of_features = 2 # number of features for each example\n",
    "train_size = 20        # number of training examples\n",
    "predict_size = 5       # number of examples to predict\n",
    "# Generate a random 2-variable training set with random classes assigned\n",
    "X = np.random.randint(100, size=(train_size, 2))\n",
    "y = np.random.randint(number_of_classes, size=train_size)\n",
    "# initialize NearestNeighbor classifier\n",
    "knn = neighbors.KNeighborsClassifier(n_neighbors=3)\n",
    "ranfor = RandomForestClassifier()\n",
    "ranfor.fit(X,y)\n",
    "\n",
    "# train model\n",
    "knn.fit(X, y)\n",
    "# values to predict classes for\n",
    "predict = np.random.randint(100, size=(predict_size, 2))\n",
    "print(\"generated examples to predict:\\n\",predict,\"\\n\")\n",
    "# predict class probabilities for each class for each value and convert to DataFrame\n",
    "probs = pd.DataFrame(knn.predict_proba(predict))\n",
    "probs_ranfor = pd.DataFrame(ranfor.predict_proba(predict))\n",
    "\n",
    "print(\"all probabilities:\\n\", probs, \"\\n\")\n",
    "for c in range(number_of_classes):\n",
    "    likely=probs[probs[c] > 0.5]\n",
    "    print(\"class\" + str(c) + \" probability > 0.5:\\n\", likely)\n",
    "    print(\"indexes of likely class\" + str(c) + \":\", likely.index.tolist(), \"\\n\")"
   ]
  },
  {
   "cell_type": "code",
   "execution_count": 10,
   "metadata": {},
   "outputs": [
    {
     "data": {
      "text/plain": [
       "(20, 2)"
      ]
     },
     "execution_count": 10,
     "metadata": {},
     "output_type": "execute_result"
    }
   ],
   "source": [
    "X.shape"
   ]
  },
  {
   "cell_type": "code",
   "execution_count": 11,
   "metadata": {},
   "outputs": [
    {
     "data": {
      "text/plain": [
       "(20,)"
      ]
     },
     "execution_count": 11,
     "metadata": {},
     "output_type": "execute_result"
    }
   ],
   "source": [
    "y.shape"
   ]
  },
  {
   "cell_type": "code",
   "execution_count": 15,
   "metadata": {},
   "outputs": [
    {
     "data": {
      "text/plain": [
       "(5, 2)"
      ]
     },
     "execution_count": 15,
     "metadata": {},
     "output_type": "execute_result"
    }
   ],
   "source": [
    "predict.shape"
   ]
  },
  {
   "cell_type": "code",
   "execution_count": 22,
   "metadata": {},
   "outputs": [
    {
     "data": {
      "text/html": [
       "<div>\n",
       "<style scoped>\n",
       "    .dataframe tbody tr th:only-of-type {\n",
       "        vertical-align: middle;\n",
       "    }\n",
       "\n",
       "    .dataframe tbody tr th {\n",
       "        vertical-align: top;\n",
       "    }\n",
       "\n",
       "    .dataframe thead th {\n",
       "        text-align: right;\n",
       "    }\n",
       "</style>\n",
       "<table border=\"1\" class=\"dataframe\">\n",
       "  <thead>\n",
       "    <tr style=\"text-align: right;\">\n",
       "      <th></th>\n",
       "      <th>0</th>\n",
       "      <th>1</th>\n",
       "      <th>2</th>\n",
       "    </tr>\n",
       "  </thead>\n",
       "  <tbody>\n",
       "    <tr>\n",
       "      <th>0</th>\n",
       "      <td>0.2</td>\n",
       "      <td>0.7</td>\n",
       "      <td>0.1</td>\n",
       "    </tr>\n",
       "    <tr>\n",
       "      <th>1</th>\n",
       "      <td>0.0</td>\n",
       "      <td>0.0</td>\n",
       "      <td>1.0</td>\n",
       "    </tr>\n",
       "    <tr>\n",
       "      <th>2</th>\n",
       "      <td>0.0</td>\n",
       "      <td>0.8</td>\n",
       "      <td>0.2</td>\n",
       "    </tr>\n",
       "    <tr>\n",
       "      <th>3</th>\n",
       "      <td>0.3</td>\n",
       "      <td>0.2</td>\n",
       "      <td>0.5</td>\n",
       "    </tr>\n",
       "    <tr>\n",
       "      <th>4</th>\n",
       "      <td>0.6</td>\n",
       "      <td>0.0</td>\n",
       "      <td>0.4</td>\n",
       "    </tr>\n",
       "  </tbody>\n",
       "</table>\n",
       "</div>"
      ],
      "text/plain": [
       "     0    1    2\n",
       "0  0.2  0.7  0.1\n",
       "1  0.0  0.0  1.0\n",
       "2  0.0  0.8  0.2\n",
       "3  0.3  0.2  0.5\n",
       "4  0.6  0.0  0.4"
      ]
     },
     "execution_count": 22,
     "metadata": {},
     "output_type": "execute_result"
    }
   ],
   "source": [
    "probs_ranfor"
   ]
  },
  {
   "cell_type": "code",
   "execution_count": null,
   "metadata": {},
   "outputs": [],
   "source": [
    "\n"
   ]
  }
 ],
 "metadata": {
  "kernelspec": {
   "display_name": "Python 3",
   "language": "python",
   "name": "python3"
  },
  "language_info": {
   "codemirror_mode": {
    "name": "ipython",
    "version": 3
   },
   "file_extension": ".py",
   "mimetype": "text/x-python",
   "name": "python",
   "nbconvert_exporter": "python",
   "pygments_lexer": "ipython3",
   "version": "3.6.3"
  }
 },
 "nbformat": 4,
 "nbformat_minor": 2
}
