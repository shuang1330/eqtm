{
 "cells": [
  {
   "cell_type": "code",
   "execution_count": 1,
   "metadata": {},
   "outputs": [],
   "source": [
    "import __init__path\n",
    "import os\n",
    "from lib.read.read_finalCpgFiles import cpgFile_DefaultExcludeAndKeep\n",
    "from lib.read.read_data import load_data\n",
    "from lib.read.dataset_class import dataset\n",
    "import pandas as pd\n",
    "import numpy as np\n",
    "from sklearn.ensemble import RandomForestClassifier\n",
    "from sklearn.metrics import confusion_matrix\n",
    "from sklearn import metrics"
   ]
  },
  {
   "cell_type": "code",
   "execution_count": 2,
   "metadata": {},
   "outputs": [],
   "source": [
    "def calculate_output(classifier,test_data):\n",
    "    '''\n",
    "    get confusion matrix and auc score for test dataset\n",
    "    '''\n",
    "    pred = classifier.predict(test_data.values)\n",
    "    tn, fp, fn, tp = confusion_matrix(test_data.labels,pred).ravel()\n",
    "    sensitivity = tp/(fn+tp)\n",
    "    specificity = tn/(fp+tn)\n",
    "    prods = classifier.predict_proba(test_data.values)[:,1]\n",
    "    fpr, tpr, _ = metrics.roc_curve(test_data.labels,prods)\n",
    "    score = metrics.auc(fpr,tpr) #auc score\n",
    "    return round(sensitivity,2), round(specificity,2), round(score,2)\n",
    "\n",
    "def simpleRanforTest(filepath):\n",
    "    exclude,keep = cpgFile_DefaultExcludeAndKeep()\n",
    "    data2_unique = load_data(filepath,keep=keep,exclude=exclude)\n",
    "    features_to_use_unique2 = [col for col in data2_unique.train.values.columns if col not in keep]\n",
    "    print(len(data2_unique.train.values.columns),len(features_to_use_unique2))\n",
    "    train_data_unqiue2 = dataset(data2_unique.train.values[features_to_use_unique2],\n",
    "                        data2_unique.train.labels.astype('int8'))\n",
    "    valid_data_unique2 = dataset(data2_unique.test.values[features_to_use_unique2],\n",
    "                        data2_unique.test.labels.astype('int8'))\n",
    "    ranfor2_unique = RandomForestClassifier().fit(train_data_unqiue2.values,train_data_unqiue2.labels)\n",
    "    print(calculate_output(ranfor2_unique,valid_data_unique2))\n",
    "    return train_data_unqiue2.values.columns,ranfor2_unique"
   ]
  },
  {
   "cell_type": "markdown",
   "metadata": {},
   "source": [
    "# select features"
   ]
  },
  {
   "cell_type": "code",
   "execution_count": 3,
   "metadata": {},
   "outputs": [
    {
     "name": "stdout",
     "output_type": "stream",
     "text": [
      "Raw data loaded with shape: (28454, 63)\n",
      "Data Normalized.\n",
      "Check the null values:\n",
      "Here are columns with NaN values:\n",
      "Check the loaded dataset: \n",
      " train with shape (21340, 38)\n",
      "test with shape: (7114, 38)\n",
      "Raw data loaded with shape: (28454, 96)\n",
      "Data Normalized.\n",
      "Check the null values:\n",
      "Here are columns with NaN values:\n",
      "Check the loaded dataset: \n",
      " train with shape (21340, 70)\n",
      "test with shape: (7114, 70)\n"
     ]
    }
   ],
   "source": [
    "data_dir = '/home/shuang/projects/development_eqtm/data/eqtmZscores'\n",
    "withOverlapTssMethy = os.path.join(data_dir,\n",
    "'withExpressionTSSMethyCpgOverlap',\n",
    "'2017-12-09-eQTLsFDR-gt0_withExpressionTssMethyOverlap.txt')\n",
    "withOverlapTssMethyExpressionGene = os.path.join(data_dir,\n",
    "'withExpressionTSSMethyCpgOverlapGene',\n",
    "'2017-12-09-eQTLsFDR-gt0_withExpressionTssMethyOverlap_withGeneOverlap.txt')\n",
    "model_name='ranfor'\n",
    "exclude,keep = cpgFile_DefaultExcludeAndKeep()\n",
    "data1 = load_data(withOverlapTssMethy,keep=keep,exclude=exclude)\n",
    "data2 = load_data(withOverlapTssMethyExpressionGene,keep=keep,exclude=exclude)\n",
    "features_to_use1 = [col for col in data1.train.values.columns if col not in keep]\n",
    "train_data1 = dataset(data1.train.values[features_to_use1],\n",
    "                    data1.train.labels.astype('int8'))\n",
    "valid_data1 = dataset(data1.test.values[features_to_use1],\n",
    "                    data1.test.labels.astype('int8'))\n",
    "features_to_use2 = [col for col in data2.train.values.columns if col not in keep]\n",
    "train_data2 = dataset(data2.train.values[features_to_use2],\n",
    "                    data2.train.labels.astype('int8'))\n",
    "valid_data2 = dataset(data2.test.values[features_to_use2],\n",
    "                    data2.test.labels.astype('int8'))"
   ]
  },
  {
   "cell_type": "code",
   "execution_count": 4,
   "metadata": {},
   "outputs": [],
   "source": [
    "ranfor1 = RandomForestClassifier().fit(train_data1.values,train_data1.labels)\n",
    "ranfor2 = RandomForestClassifier().fit(train_data2.values,train_data2.labels)\n"
   ]
  },
  {
   "cell_type": "code",
   "execution_count": 5,
   "metadata": {},
   "outputs": [
    {
     "name": "stdout",
     "output_type": "stream",
     "text": [
      "(21340, 37)\n",
      "(21340, 69)\n",
      "(0.47, 0.86, 0.78)\n",
      "(0.5, 0.86, 0.79)\n"
     ]
    }
   ],
   "source": [
    "print(train_data1.values.shape)\n",
    "print(train_data2.values.shape)\n",
    "print(calculate_output(ranfor1,valid_data1))\n",
    "print(calculate_output(ranfor2,valid_data2))"
   ]
  },
  {
   "cell_type": "code",
   "execution_count": 6,
   "metadata": {},
   "outputs": [
    {
     "data": {
      "text/plain": [
       "Index(['OverallZScore', 'expressionMean', 'expressionVar', 'TssDistance',\n",
       "       'methyMean', 'methyVar', 'H4K5ac', 'H2A.Z', 'H2BK120ac', 'H3K79me2',\n",
       "       'H3K27ac', 'H2BK20ac', 'H3K14ac', 'H3K9ac', 'H4K20me1', 'H3K4ac',\n",
       "       'H2AK5ac', 'H3K9me3', 'H3K36me3', 'H3K4me1', 'H3K18ac', 'H3K23ac',\n",
       "       'H2BK5ac', 'H3K4me3', 'H2BK12ac', 'H3K23me2', 'H4K12ac', 'DNase',\n",
       "       'H2BK15ac', 'H3K9me1', 'H3K4me2', 'H3K27me3', 'H3K79me1', 'H2AK9ac',\n",
       "       'H3T11ph', 'H4K8ac', 'H4K91ac', 'H3K56ac'],\n",
       "      dtype='object')"
      ]
     },
     "execution_count": 6,
     "metadata": {},
     "output_type": "execute_result"
    }
   ],
   "source": [
    "data1.train.values.columns"
   ]
  },
  {
   "cell_type": "code",
   "execution_count": 7,
   "metadata": {},
   "outputs": [
    {
     "data": {
      "text/plain": [
       "Index(['expressionMean', 'expressionVar', 'TssDistance', 'methyMean',\n",
       "       'methyVar', 'H4K5ac', 'H2A.Z', 'H2BK120ac', 'H3K79me2', 'H3K27ac',\n",
       "       'H2BK20ac', 'H3K14ac', 'H3K9ac', 'H4K20me1', 'H3K4ac', 'H2AK5ac',\n",
       "       'H3K9me3', 'H3K36me3', 'H3K4me1', 'H3K18ac', 'H3K23ac', 'H2BK5ac',\n",
       "       'H3K4me3', 'H2BK12ac', 'H3K23me2', 'H4K12ac', 'DNase', 'H2BK15ac',\n",
       "       'H3K9me1', 'H3K4me2', 'H3K27me3', 'H3K79me1', 'H2AK9ac', 'H3T11ph',\n",
       "       'H4K8ac', 'H4K91ac', 'H3K56ac'],\n",
       "      dtype='object')"
      ]
     },
     "execution_count": 7,
     "metadata": {},
     "output_type": "execute_result"
    }
   ],
   "source": [
    "train_data1.values.columns"
   ]
  },
  {
   "cell_type": "code",
   "execution_count": null,
   "metadata": {},
   "outputs": [],
   "source": []
  },
  {
   "cell_type": "code",
   "execution_count": 8,
   "metadata": {},
   "outputs": [
    {
     "name": "stdout",
     "output_type": "stream",
     "text": [
      "(28454, 63)\n",
      "(17460, 63)\n",
      "Raw data loaded with shape: (17460, 64)\n",
      "Data Normalized.\n",
      "Check the null values:\n",
      "Here are columns with NaN values:\n",
      "Check the loaded dataset: \n",
      " train with shape (13095, 38)\n",
      "test with shape: (4365, 38)\n"
     ]
    }
   ],
   "source": [
    "data1_raw = pd.read_csv(withOverlapTssMethy,sep=',')\n",
    "print(data1_raw.shape)\n",
    "print(data1_raw.drop_duplicates(subset='SNPName').shape)\n",
    "unique_data1_raw = data1_raw.drop_duplicates(subset='SNPName')\n",
    "unique_data_filepath = os.path.join(data_dir,\n",
    "                                     'withExpressionTSSMethyCpgOverlap',\n",
    "                                     '2017-12-09-eQTLsFDR-gt0_withExpressionTssMethyOverlap_unique.txt')\n",
    "unique_data1_raw.to_csv(unique_data_filepath)\n",
    "data1_unique = load_data(unique_data_filepath,keep=keep,exclude=exclude)"
   ]
  },
  {
   "cell_type": "code",
   "execution_count": 9,
   "metadata": {},
   "outputs": [
    {
     "name": "stdout",
     "output_type": "stream",
     "text": [
      "(0.44, 0.82, 0.72)\n"
     ]
    }
   ],
   "source": [
    "features_to_use_unique1 = [col for col in data1_unique.train.values.columns if col not in keep]\n",
    "train_data_unqiue1 = dataset(data1_unique.train.values[features_to_use1],\n",
    "                    data1_unique.train.labels.astype('int8'))\n",
    "valid_data_unique1 = dataset(data1_unique.test.values[features_to_use1],\n",
    "                    data1_unique.test.labels.astype('int8'))\n",
    "ranfor1_unique = RandomForestClassifier().fit(train_data_unqiue1.values,train_data_unqiue1.labels)\n",
    "print(calculate_output(ranfor1_unique,valid_data_unique1))"
   ]
  },
  {
   "cell_type": "code",
   "execution_count": 10,
   "metadata": {},
   "outputs": [
    {
     "name": "stdout",
     "output_type": "stream",
     "text": [
      "(28454, 96)\n",
      "(17460, 96)\n",
      "Raw data loaded with shape: (17460, 97)\n",
      "Data Normalized.\n",
      "Check the null values:\n",
      "Here are columns with NaN values:\n",
      "Check the loaded dataset: \n",
      " train with shape (13095, 71)\n",
      "test with shape: (4365, 71)\n",
      "(0.45, 0.84, 0.74)\n"
     ]
    }
   ],
   "source": [
    "data2_raw = pd.read_csv(withOverlapTssMethyExpressionGene,sep=',')\n",
    "print(data2_raw.shape)\n",
    "print(data2_raw.drop_duplicates(subset='SNPName').shape)\n",
    "unique_data2_raw = data2_raw.drop_duplicates(subset='SNPName')\n",
    "unique_data2_filepath = os.path.join(data_dir,\n",
    "                                     'withExpressionTSSMethyCpgOverlapGene',\n",
    "                                     '2017-12-09-eQTLsFDR-gt0_withExpressionTssMethyOverlap_withGeneOverlap_unique.txt')\n",
    "unique_data2_raw.to_csv(unique_data2_filepath)\n",
    "data2_unique = load_data(unique_data2_filepath,keep=keep,exclude=exclude)\n",
    "features_to_use_unique2 = [col for col in data2_unique.train.values.columns if col not in keep]\n",
    "train_data_unqiue2 = dataset(data2_unique.train.values[features_to_use_unique2],\n",
    "                    data2_unique.train.labels.astype('int8'))\n",
    "valid_data_unique2 = dataset(data2_unique.test.values[features_to_use_unique2],\n",
    "                    data2_unique.test.labels.astype('int8'))\n",
    "ranfor2_unique = RandomForestClassifier().fit(train_data_unqiue2.values,train_data_unqiue2.labels)\n",
    "print(calculate_output(ranfor2_unique,valid_data_unique2))"
   ]
  },
  {
   "cell_type": "markdown",
   "metadata": {},
   "source": [
    "# cell type and feature importance"
   ]
  },
  {
   "cell_type": "code",
   "execution_count": 13,
   "metadata": {},
   "outputs": [],
   "source": [
    "gt_final_dir = '/home/shuang/projects/development_eqtm/data/eqtmZscores/withExpressionTSSMethyCpgOverlapGene'\n",
    "all_gt_filepath = os.path.join(gt_final_dir,'2017-12-09-eQTLsFDR-gt0_withExpressionTssMethyOverlap_withGeneOverlap.txt')\n",
    "blood_gt_filepath = os.path.join(gt_final_dir,'2017-12-09-eQTLsFDR-gt0.0-flipped_withExpressionTssMethy_blood_withGeneOverlap.txt')\n",
    "nonBlood_gt_filepath = os.path.join(gt_final_dir,'2017-12-09-eQTLsFDR-gt0.0-flipped_withExpressionTssMethy_nonBlood_withGeneOverlap.txt')\n"
   ]
  },
  {
   "cell_type": "code",
   "execution_count": 14,
   "metadata": {},
   "outputs": [
    {
     "name": "stdout",
     "output_type": "stream",
     "text": [
      "Raw data loaded with shape: (28454, 96)\n",
      "Data Normalized.\n",
      "Check the null values:\n",
      "Here are columns with NaN values:\n",
      "Check the loaded dataset: \n",
      " train with shape (21340, 70)\n",
      "test with shape: (7114, 70)\n",
      "70 69\n",
      "(0.49, 0.86, 0.79)\n",
      "Raw data loaded with shape: (28454, 96)\n",
      "Data Normalized.\n",
      "Check the null values:\n",
      "Here are columns with NaN values:\n",
      "Check the loaded dataset: \n",
      " train with shape (21340, 70)\n",
      "test with shape: (7114, 70)\n",
      "70 69\n",
      "(0.51, 0.86, 0.8)\n",
      "Raw data loaded with shape: (28454, 96)\n",
      "Data Normalized.\n",
      "Check the null values:\n",
      "Here are columns with NaN values:\n",
      "Check the loaded dataset: \n",
      " train with shape (21340, 70)\n",
      "test with shape: (7114, 70)\n",
      "70 69\n",
      "(0.49, 0.86, 0.8)\n"
     ]
    }
   ],
   "source": [
    "features_all,ranfor_all = simpleRanforTest(all_gt_filepath)\n",
    "features_blood,ranfor_blood = simpleRanforTest(blood_gt_filepath)\n",
    "features_nonBlood,ranfor_nonBlood = simpleRanforTest(nonBlood_gt_filepath)"
   ]
  },
  {
   "cell_type": "code",
   "execution_count": 25,
   "metadata": {},
   "outputs": [
    {
     "name": "stdout",
     "output_type": "stream",
     "text": [
      "0.025462583247162114\t0.02445006074803041\t0.042590945801832994\t0.025071454761143162\t0.02668786825566267\t0.016601723126366714\t0.012768953154164847\t0.011904297528902572\t0.01293952165372888\t0.01934871779274462\t0.01648614550136699\t0.012292376660269229\t0.014333497569563161\t0.019257585459739286\t0.016090179503974376\t0.01624689975725537\t0.01388408042768278\t0.011689819225459294\t0.018838076492014907\t0.014414842651578039\t0.013290703674539819\t0.015233442691696058\t0.0137912898546035\t0.01999212044270629\t0.017807575866413076\t0.021796971710786102\t0.01601622227834703\t0.012228714842802402\t0.005190133091940914\t0.021508057671913737\t0.017410266000670315\t0.018189316910925547\t0.01590455203055556\t0.02219837073284326\t0.021488433541752866\t0.01528083460754994\t0.014269739174098595\t0.012684120418196693\t0.0038053269672888488\t0.0118098016363485\t0.008782442950705212\t0.005285501430906521\t0.017293012291934074\t0.010265550424733405\t0.004316558067970893\t0.016685323314438862\t0.009435252933062074\t0.015154393864222692\t0.014443321483469888\t0.011063713943047627\t0.004608561739687463\t0.008349906722091505\t0.013583571753291385\t0.01166799657478939\t0.003842052330940212\t0.015065727215856532\t0.012493550918317813\t0.010787051021029266\t0.004722177032910125\t0.017052982335739965\t0.00952937666082755\t0.0037779821631783715\t0.0163064828287649\t0.013757132337915206\t0.016198480712648136\t0.013210658662693987\t0.007549668208663941\t0.010100746240554594\t0.013415200370986969\n"
     ]
    }
   ],
   "source": [
    "print('\\t'.join([str(item) for item in ranfor_all.feature_importances_]))"
   ]
  },
  {
   "cell_type": "code",
   "execution_count": 27,
   "metadata": {},
   "outputs": [
    {
     "data": {
      "text/plain": [
       "'expressionMean\\texpressionVar\\tTssDistance\\tmethyMean\\tmethyVar\\tH4K5ac\\tH2A.Z\\tH2BK120ac\\tH3K79me2\\tH3K27ac\\tH2BK20ac\\tH3K14ac\\tH3K9ac\\tH4K20me1\\tH3K4ac\\tH2AK5ac\\tH3K9me3\\tH3K36me3\\tH3K4me1\\tH3K18ac\\tH3K23ac\\tH2BK5ac\\tH3K4me3\\tH2BK12ac\\tH3K23me2\\tH4K12ac\\tDNase\\tH2BK15ac\\tH3K9me1\\tH3K4me2\\tH3K27me3\\tH3K79me1\\tH2AK9ac\\tH3T11ph\\tH4K8ac\\tH4K91ac\\tH3K56ac\\tH4K5acgene\\tH2A.Zgene\\tH2BK120acgene\\tH3K79me2gene\\tH3K27acgene\\tH2BK20acgene\\tH3K14acgene\\tH3K9acgene\\tH4K20me1gene\\tH3K4acgene\\tH2AK5acgene\\tH3K9me3gene\\tH3K36me3gene\\tH3K4me1gene\\tH3K18acgene\\tH3K23acgene\\tH2BK5acgene\\tH3K4me3gene\\tH2BK12acgene\\tH3K23me2gene\\tH4K12acgene\\tDNasegene\\tH2BK15acgene\\tH3K9me1gene\\tH3K4me2gene\\tH3K27me3gene\\tH3K79me1gene\\tH2AK9acgene\\tH3T11phgene\\tH4K8acgene\\tH4K91acgene\\tH3K56acgene'"
      ]
     },
     "execution_count": 27,
     "metadata": {},
     "output_type": "execute_result"
    }
   ],
   "source": [
    "features_all\n",
    "\"\\t\".join(features_all)"
   ]
  },
  {
   "cell_type": "code",
   "execution_count": 28,
   "metadata": {},
   "outputs": [],
   "source": [
    "feature_importance_record_filepath = '/home/shuang/projects/development_eqtm/data/features/feature_importances/featureImportances_allCellType_gt.txt'\n",
    "with open(feature_importance_record_filepath,'w') as f:\n",
    "    f.write('\\t'.join(features_all))\n",
    "    f.write('\\n')\n",
    "    f.write('\\t'.join([str(item) for item in ranfor_all.feature_importances_]))\n",
    "    f.close()"
   ]
  },
  {
   "cell_type": "code",
   "execution_count": 31,
   "metadata": {},
   "outputs": [
    {
     "data": {
      "image/png": "[encoded data removed]",
      "text/plain": [
       "<matplotlib.figure.Figure at 0x7f13e794fba8>"
      ]
     },
     "metadata": {},
     "output_type": "display_data"
    }
   ],
   "source": [
    "import matplotlib.pyplot as plt\n",
    "% matplotlib inline\n",
    "fig = plt.gcf()\n",
    "fig.set_size_inches(18.5, 10.5)\n",
    "fig.savefig('Feature importances', dpi=100)\n",
    "plt.bar(features_all,ranfor_all.feature_importances_,alpha=0.5,label='All celltypes')\n",
    "plt.bar(features_blood,ranfor_blood.feature_importances_,alpha=0.5,label='Blood cells')\n",
    "plt.bar(features_nonBlood,ranfor_nonBlood.feature_importances_,alpha=0.5,label='Non-blood cells')\n",
    "plt.xticks(rotation=90)\n",
    "plt.legend()\n",
    "plt.savefig('/home/shuang/projects/development_eqtm/output_fig/feature_importances.png')\n",
    "plt.show()\n"
   ]
  },
  {
   "cell_type": "code",
   "execution_count": 46,
   "metadata": {},
   "outputs": [
    {
     "data": {
      "text/plain": [
       "0.17088036636899778"
      ]
     },
     "execution_count": 46,
     "metadata": {},
     "output_type": "execute_result"
    }
   ],
   "source": [
    "np.max(ranfor_blood.feature_importances_)"
   ]
  },
  {
   "cell_type": "code",
   "execution_count": 47,
   "metadata": {},
   "outputs": [
    {
     "data": {
      "text/plain": [
       "0.17262891336770428"
      ]
     },
     "execution_count": 47,
     "metadata": {},
     "output_type": "execute_result"
    }
   ],
   "source": [
    "np.max(ranfor_nonBlood.feature_importances_)"
   ]
  },
  {
   "cell_type": "code",
   "execution_count": 48,
   "metadata": {},
   "outputs": [
    {
     "data": {
      "text/plain": [
       "0.04601050296690815"
      ]
     },
     "execution_count": 48,
     "metadata": {},
     "output_type": "execute_result"
    }
   ],
   "source": [
    "np.max(ranfor_all.feature_importances_)"
   ]
  },
  {
   "cell_type": "code",
   "execution_count": 50,
   "metadata": {},
   "outputs": [
    {
     "data": {
      "text/plain": [
       "Index(['expressionMean', 'expressionVar', 'TssDistance', 'methyMean',\n",
       "       'methyVar', 'H4K5acgene', 'H2A.Zgene', 'H2BK120acgene', 'H3K79me2gene',\n",
       "       'H3K27acgene', 'H2BK20acgene', 'H3K14acgene', 'H3K9acgene',\n",
       "       'H4K20me1gene', 'H3K4acgene', 'H2AK5acgene', 'H3K9me3gene',\n",
       "       'H3K36me3gene', 'H3K4me1gene', 'H3K18acgene', 'H3K23acgene',\n",
       "       'H2BK5acgene', 'H3K4me3gene', 'H2BK12acgene', 'H3K23me2gene',\n",
       "       'H4K12acgene', 'DNasegene', 'H2BK15acgene', 'H3K9me1gene',\n",
       "       'H3K4me2gene', 'H3K27me3gene', 'H3K79me1gene', 'H2AK9acgene',\n",
       "       'H3T11phgene', 'H4K8acgene', 'H4K91acgene', 'H3K56acgene'],\n",
       "      dtype='object')"
      ]
     },
     "execution_count": 50,
     "metadata": {},
     "output_type": "execute_result"
    }
   ],
   "source": [
    "features_nonBlood"
   ]
  },
  {
   "cell_type": "code",
   "execution_count": 51,
   "metadata": {},
   "outputs": [
    {
     "data": {
      "text/plain": [
       "Index(['expressionMean', 'expressionVar', 'TssDistance', 'methyMean',\n",
       "       'methyVar', 'H4K5acgene', 'H2A.Zgene', 'H2BK120acgene', 'H3K79me2gene',\n",
       "       'H3K27acgene', 'H2BK20acgene', 'H3K14acgene', 'H3K9acgene',\n",
       "       'H4K20me1gene', 'H3K4acgene', 'H2AK5acgene', 'H3K9me3gene',\n",
       "       'H3K36me3gene', 'H3K4me1gene', 'H3K18acgene', 'H3K23acgene',\n",
       "       'H2BK5acgene', 'H3K4me3gene', 'H2BK12acgene', 'H3K23me2gene',\n",
       "       'H4K12acgene', 'DNasegene', 'H2BK15acgene', 'H3K9me1gene',\n",
       "       'H3K4me2gene', 'H3K27me3gene', 'H3K79me1gene', 'H2AK9acgene',\n",
       "       'H3T11phgene', 'H4K8acgene', 'H4K91acgene', 'H3K56acgene'],\n",
       "      dtype='object')"
      ]
     },
     "execution_count": 51,
     "metadata": {},
     "output_type": "execute_result"
    }
   ],
   "source": [
    "features_blood"
   ]
  },
  {
   "cell_type": "code",
   "execution_count": 52,
   "metadata": {},
   "outputs": [
    {
     "data": {
      "text/plain": [
       "Index(['expressionMean', 'expressionVar', 'TssDistance', 'methyMean',\n",
       "       'methyVar', 'H4K5ac', 'H2A.Z', 'H2BK120ac', 'H3K79me2', 'H3K27ac',\n",
       "       'H2BK20ac', 'H3K14ac', 'H3K9ac', 'H4K20me1', 'H3K4ac', 'H2AK5ac',\n",
       "       'H3K9me3', 'H3K36me3', 'H3K4me1', 'H3K18ac', 'H3K23ac', 'H2BK5ac',\n",
       "       'H3K4me3', 'H2BK12ac', 'H3K23me2', 'H4K12ac', 'DNase', 'H2BK15ac',\n",
       "       'H3K9me1', 'H3K4me2', 'H3K27me3', 'H3K79me1', 'H2AK9ac', 'H3T11ph',\n",
       "       'H4K8ac', 'H4K91ac', 'H3K56ac', 'H4K5acgene', 'H2A.Zgene',\n",
       "       'H2BK120acgene', 'H3K79me2gene', 'H3K27acgene', 'H2BK20acgene',\n",
       "       'H3K14acgene', 'H3K9acgene', 'H4K20me1gene', 'H3K4acgene',\n",
       "       'H2AK5acgene', 'H3K9me3gene', 'H3K36me3gene', 'H3K4me1gene',\n",
       "       'H3K18acgene', 'H3K23acgene', 'H2BK5acgene', 'H3K4me3gene',\n",
       "       'H2BK12acgene', 'H3K23me2gene', 'H4K12acgene', 'DNasegene',\n",
       "       'H2BK15acgene', 'H3K9me1gene', 'H3K4me2gene', 'H3K27me3gene',\n",
       "       'H3K79me1gene', 'H2AK9acgene', 'H3T11phgene', 'H4K8acgene',\n",
       "       'H4K91acgene', 'H3K56acgene'],\n",
       "      dtype='object')"
      ]
     },
     "execution_count": 52,
     "metadata": {},
     "output_type": "execute_result"
    }
   ],
   "source": [
    "features_all"
   ]
  },
  {
   "cell_type": "code",
   "execution_count": null,
   "metadata": {},
   "outputs": [],
   "source": []
  }
 ],
 "metadata": {
  "kernelspec": {
   "display_name": "Python 3",
   "language": "python",
   "name": "python3"
  },
  "language_info": {
   "codemirror_mode": {
    "name": "ipython",
    "version": 3
   },
   "file_extension": ".py",
   "mimetype": "text/x-python",
   "name": "python",
   "nbconvert_exporter": "python",
   "pygments_lexer": "ipython3",
   "version": "3.6.3"
  }
 },
 "nbformat": 4,
 "nbformat_minor": 2
}
