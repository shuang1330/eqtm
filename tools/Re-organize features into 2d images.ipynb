{
 "cells": [
  {
   "cell_type": "code",
   "execution_count": 1,
   "metadata": {},
   "outputs": [],
   "source": [
    "import __init__path\n",
    "import os\n",
    "import tensorflow as tf\n",
    "import pandas as pd\n",
    "import numpy as np\n",
    "from lib.preprocess.selectCellType import read_allCelltypeFile,read_bloodCelltypeFile,read_histoneList"
   ]
  },
  {
   "cell_type": "code",
   "execution_count": 2,
   "metadata": {},
   "outputs": [],
   "source": [
    "feature_importances_filepath = '/home/shuang/projects/development_eqtm/data/features/feature_importances/featureImportances_allCellType_gt.txt'\n",
    "celltype_dir = '/home/shuang/projects/development_eqtm/data/features/celltype'\n",
    "blood_celltype_filepath = os.path.join(celltype_dir,'roadmap-celltypes-blood-MJ.txt')\n",
    "all_celltype_filepath = os.path.join(celltype_dir,'roadmap-celltypes.txt')\n",
    "histonelist_filepath = '/home/shuang/projects/development_eqtm/data/features/histonetype/2017-12-09-eQTLsFDR-et0.0-flipped_histoneList.txt'"
   ]
  },
  {
   "cell_type": "code",
   "execution_count": 3,
   "metadata": {},
   "outputs": [],
   "source": [
    "def read_feature_importances(feature_importances_filepath):\n",
    "    filecontent = open(feature_importances_filepath,'r').readlines()\n",
    "    features = [item.strip() for item in filecontent[0].split('\\t')]\n",
    "    importances = [float(item.strip()) for item in filecontent[1].split('\\t')]\n",
    "    return features, importances\n",
    "\n",
    "def sort_feature_by_importances(feature_importances_filepath,feature_type_name):\n",
    "    features, importances = read_feature_importances(feature_importances_filepath)\n",
    "    if feature_type_name == 'gene':\n",
    "        histones_overlap = []\n",
    "        histones_importances = []\n",
    "        for ind,featurename in enumerate(features):\n",
    "            if featurename.endswith('gene'):\n",
    "                if featurename not in ['expressionMean','expressionVar','TssDistance','methyMean','methyVar']:\n",
    "                    histones_overlap.append(featurename)\n",
    "                    histones_importances.append(importances[ind])\n",
    "        histone_sorted = [histones_overlap[ind] for ind in np.argsort(np.array(histones_importances))[::-1]]\n",
    "    elif feature_type_name == 'cpg':\n",
    "        histones_overlap = []\n",
    "        histones_importances = []\n",
    "        for ind,featurename in enumerate(features):\n",
    "            if not featurename.endswith('gene'):\n",
    "                if featurename not in ['expressionMean','expressionVar','TssDistance','methyMean','methyVar']:\n",
    "                    histones_overlap.append(featurename)\n",
    "                    histones_importances.append(importances[ind])\n",
    "        histone_sorted = [histones_overlap[ind] for ind in np.argsort(np.array(histones_importances))[::-1]]\n",
    "    return histone_sorted\n",
    "def transform_data(rearranged_matrix_filepath,\n",
    "                   overlapMatrix_filepath,\n",
    "                   blood_celltype_filepath,\n",
    "                   all_celltype_filepath,\n",
    "                   feature_importances_filepath,\n",
    "                   feature_type_name,\n",
    "                   histonelist_filepath\n",
    "                   ):\n",
    "#     rearranged_matrix_filepath = os.path.join(transformed_input_dirpth,'rearranged_matrix.txt')\n",
    "    overlapMatrix = pd.read_csv(overlapMatrix_filepath,index_col=0)\n",
    "    transposed_overlapMatrix = pd.DataFrame.transpose(overlapMatrix)\n",
    "    print(transposed_overlapMatrix.head())\n",
    "    rearranged_matrix = open(rearranged_matrix_filepath,'w')\n",
    "    rearranged_matrix.write('\\t'.join(transposed_overlapMatrix.columns))\n",
    "    rearranged_matrix.write('\\n')\n",
    "    blood_celltypes = read_bloodCelltypeFile(blood_celltype_filepath)\n",
    "    all_celltypes_info = read_allCelltypeFile(all_celltype_filepath)\n",
    "    histone_sorted_by_importances = sort_feature_by_importances(feature_importances_filepath,feature_type_name)\n",
    "    for celltype in blood_celltypes:\n",
    "        for histone in histone_sorted_by_importances:\n",
    "            index = '-'.join([celltype,histone])\n",
    "            rearranged_matrix.write(index)\n",
    "            rearranged_matrix.write('\\t')\n",
    "            try:\n",
    "                rearranged_matrix.write('\\t'.join([str(item) for item in transposed_overlapMatrix.loc[index].values]))\n",
    "            except:\n",
    "                rearranged_matrix.write('\\t'.join(['0' for item in np.arange(transposed_overlapMatrix.shape[1])]))\n",
    "            rearranged_matrix.write('\\n')\n",
    "    other_celltype = [col for col in all_celltypes_info.keys() if col not in blood_celltypes]\n",
    "    for celltype in other_celltype:\n",
    "        for histone in histone_sorted_by_importances:\n",
    "            index = '-'.join([celltype,histone])\n",
    "            rearranged_matrix.write(index)\n",
    "            rearranged_matrix.write('\\t')\n",
    "            try:\n",
    "                rearranged_matrix.write('\\t'.join([str(item) for item in transposed_overlapMatrix.loc[index].values]))\n",
    "            except:\n",
    "                rearranged_matrix.write('\\t'.join(['0' for item in np.arange(transposed_overlapMatrix.shape[1])]))\n",
    "            rearranged_matrix.write('\\n')\n",
    "    rearranged_matrix.close()\n",
    "    print('Wrote the re-arranged complete matrix to path:',rearranged_matrix_filepath)\n",
    "    \n",
    "def write_inidividualFiles(histonelist_filepath,\n",
    "                           all_celltype_filepath,\n",
    "                           rearranged_matrix_filepath,\n",
    "                           transformed_input_dirpth):\n",
    "    \n",
    "    # write inividual files\n",
    "    histone_list = read_histoneList(histonelist_filepath)\n",
    "    num_histone = len(histone_list)\n",
    "    all_celltypes_info = read_allCelltypeFile(all_celltype_filepath)\n",
    "    num_allcelltypes = len(all_celltypes_info.keys())\n",
    "    final_gt_rearranged_matrix = pd.read_csv(rearranged_matrix_filepath,sep='\\t')\n",
    "    print('Read matrix file.')\n",
    "    for col in final_gt_rearranged_matrix.columns:\n",
    "        file_to_write = open(os.path.join(transformed_input_dirpth,col+'.txt'),'w')\n",
    "        for i in range(0,final_gt_rearranged_matrix.shape[0],num_allcelltypes):\n",
    "            content_to_write = [str(row) for row in final_gt_rearranged_matrix[col][i:(i+num_allcelltypes)].values]\n",
    "            file_to_write.write('\\t'.join(content_to_write))\n",
    "            file_to_write.write('\\n')\n",
    "        file_to_write.close()\n",
    "    print('Finished writing all individual files to path:',transformed_input_dirpth)"
   ]
  },
  {
   "cell_type": "markdown",
   "metadata": {},
   "source": [
    "# cpg overlapmatrix transformation"
   ]
  },
  {
   "cell_type": "code",
   "execution_count": null,
   "metadata": {},
   "outputs": [],
   "source": [
    "cpg_rearranged_matrix_filepath = '/home/shuang/projects/development_eqtm/data/eqtmZscores/testCNN/cpgSites/rearranged_matrix.txt'\n",
    "cpg_overlapMatrix_filepath = '/home/shuang/projects/development_eqtm/data/eqtmZscores/complete_overlapMatrix/2017-12-09-eQTLsFDR-gt0.0-flipped_overlapMatrixcomplete.txt'\n",
    "\n",
    "cpg_transformed_input_dirpth = '/home/shuang/projects/development_eqtm/data/eqtmZscores/testCNN/cpgSites'\n",
    "transform_data(rearranged_matrix_filepath,\n",
    "               cpg_overlapMatrix_filepath,\n",
    "               blood_celltype_filepath,\n",
    "               all_celltype_filepath,\n",
    "               feature_importances_filepath,\n",
    "               'cpg',\n",
    "               histonelist_filepath\n",
    "               )\n",
    "write_inidividualFiles(histonelist_filepath,\n",
    "                       all_celltype_filepath,\n",
    "                       cpg_rearranged_matrix_filepath,\n",
    "                       cpg_transformed_input_dirpth)"
   ]
  },
  {
   "cell_type": "markdown",
   "metadata": {},
   "source": [
    "# gene overlapmatrix transformation"
   ]
  },
  {
   "cell_type": "code",
   "execution_count": 7,
   "metadata": {},
   "outputs": [
    {
     "name": "stdout",
     "output_type": "stream",
     "text": [
      "Read matrix file.\n",
      "Finished writing all individual files to path: /home/shuang/projects/development_eqtm/data/eqtmZscores/testCNN/geneSites\n"
     ]
    }
   ],
   "source": [
    "gene_rearranged_matrix_filepath = '/home/shuang/projects/development_eqtm/data/eqtmZscores/testCNN/geneSites/gene_rearranged_overlapMatrix.txt'\n",
    "gene_overlapMatrix_filepath = '/home/shuang/projects/development_eqtm/data/features/geneOverlap/gene_StartEndSite_overlapMatrix.txt'\n",
    "transformed_input_dirpth = '/home/shuang/projects/development_eqtm/data/eqtmZscores/testCNN'\n",
    "gene_overlapMatrix_save_dirpath = os.path.join(transformed_input_dirpth,'geneSites')\n",
    "gene_transformed_input_dirpth = '/home/shuang/projects/development_eqtm/data/eqtmZscores/testCNN/geneSites'\n",
    "transform_data(gene_rearranged_matrix_filepath,\n",
    "               gene_overlapMatrix_filepath,\n",
    "               blood_celltype_filepath,\n",
    "               all_celltype_filepath,\n",
    "               feature_importances_filepath,\n",
    "               'gene',\n",
    "               histonelist_filepath\n",
    "               )\n",
    "write_inidividualFiles(histonelist_filepath,\n",
    "                       all_celltype_filepath,\n",
    "                       gene_rearranged_matrix_filepath,\n",
    "                       gene_transformed_input_dirpth)"
   ]
  },
  {
   "cell_type": "code",
   "execution_count": null,
   "metadata": {},
   "outputs": [],
   "source": []
  }
 ],
 "metadata": {
  "kernelspec": {
   "display_name": "Python 3",
   "language": "python",
   "name": "python3"
  },
  "language_info": {
   "codemirror_mode": {
    "name": "ipython",
    "version": 3
   },
   "file_extension": ".py",
   "mimetype": "text/x-python",
   "name": "python",
   "nbconvert_exporter": "python",
   "pygments_lexer": "ipython3",
   "version": "3.6.3"
  }
 },
 "nbformat": 4,
 "nbformat_minor": 2
}
