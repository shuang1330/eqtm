{
 "cells": [
  {
   "cell_type": "markdown",
   "metadata": {},
   "source": [
    "# read matrices"
   ]
  },
  {
   "cell_type": "code",
   "execution_count": 1,
   "metadata": {},
   "outputs": [],
   "source": [
    "import __init__path\n",
    "import os\n",
    "import tensorflow as tf\n",
    "import pandas as pd\n",
    "import numpy as np\n",
    "from lib.read.read_finalCpgFiles import cpgFile_DefaultExcludeAndKeep\n",
    "from lib.read.read_data import load_data\n",
    "\n",
    "import tensorflow as tf\n",
    "import tensorflow.contrib.layers as lays\n",
    "import tensorflow.contrib.slim as slim\n",
    "from tensorflow.contrib.slim import losses\n",
    "from tensorflow.contrib.slim import arg_scope\n",
    "\n",
    "data_dirpath = '/home/shuang/projects/development_eqtm/data'\n",
    "cpgSites_dirpath = os.path.join(data_dirpath,'eqtmZscores','testCNN','cpgSites')\n",
    "geneSites_dirpath = os.path.join(data_dirpath,'eqtmZscores','testCNN','geneSites')\n",
    "eqtm_path = os.path.join(data_dirpath,'eqtmZscores',\n",
    "                         'withExpressionTSSMethyCpgOverlapGene',\n",
    "                         '2017-12-09-eQTLsFDR-gt0_withExpressionTssMethyOverlap_withGeneOverlap.txt')\n",
    "namelist_dirpath = os.path.join(data_dirpath,'eqtmZscores','testCNN','namelist')"
   ]
  },
  {
   "cell_type": "code",
   "execution_count": 2,
   "metadata": {},
   "outputs": [],
   "source": [
    "def dense_to_one_hot(labels_dense, num_classes):\n",
    "    return np.eye(num_classes)[np.array(labels_dense).reshape(-1)]"
   ]
  },
  {
   "cell_type": "code",
   "execution_count": 3,
   "metadata": {},
   "outputs": [],
   "source": [
    "def read_individual_image(img_path):\n",
    "    f = open(img_path,'r').readlines()\n",
    "    res = np.array([[int(element.strip()) for element in row.strip().split('\\t')] for row in f])\n",
    "    return res"
   ]
  },
  {
   "cell_type": "code",
   "execution_count": 4,
   "metadata": {},
   "outputs": [],
   "source": [
    "class img(object):\n",
    "    def __init__(self,imgname,img_dirpath):\n",
    "        self._imgname = imgname\n",
    "        self._dirpath = img_dirpath\n",
    "    def imgname(self):\n",
    "        return self._imgname\n",
    "    def imgpath(self):\n",
    "        return self._imgpath\n",
    "    def img_data(self):\n",
    "        self._imgpath = os.path.join(self._dirpath,self._imgname+'.txt')\n",
    "        return read_individual_image(self._imgpath)"
   ]
  },
  {
   "cell_type": "code",
   "execution_count": 5,
   "metadata": {},
   "outputs": [],
   "source": [
    "def find_correspondingImgs(item):\n",
    "        cpg_img = img(item[0],cpgSites_dirpath).img_data()\n",
    "        gene_img = img(item[1],geneSites_dirpath).img_data()\n",
    "        return np.stack((cpg_img,gene_img),axis=-1)\n",
    "    \n",
    "class iterlist(object):\n",
    "    def __init__(self,namearray,all_labels):\n",
    "        # namearray here needs to be 'cpgname_probename', dataframe[['SNPName','ProbeName']]\n",
    "        self._namearray = namearray\n",
    "        self._all_labels = dense_to_one_hot(all_labels, 2)\n",
    "        self._epochs_completed = 0\n",
    "        self._index_in_epoch = 0\n",
    "        self._num_examples = namearray.shape[0]\n",
    "        \n",
    "    def all_labels(self):\n",
    "        return self._all_labels\n",
    "    \n",
    "    def all_images(self):\n",
    "        return np.array([find_correspondingImgs(item) for item in self._namearray])\n",
    "    \n",
    "    def next_batch(self,batch_size,shuffle=True):\n",
    "        start = self._index_in_epoch\n",
    "        #shuffle for the first epoch\n",
    "        if self._epochs_completed == 0 and start == 0 and shuffle:\n",
    "            perm0 = np.arange(self._num_examples)\n",
    "            np.random.shuffle(perm0)\n",
    "            self._names = self._namearray[perm0]\n",
    "            self._labels = self._all_labels[perm0]\n",
    "        if start + batch_size > self._num_examples:\n",
    "            # finish epoch\n",
    "            self._epochs_completed += 1\n",
    "            # get the rest examples in this epoch\n",
    "            rest_num_examples = self._num_examples - start\n",
    "            names_rest_part = self._namearray[start:self._num_examples]\n",
    "            labels_rest_part = self._all_labels[start:self._num_examples]\n",
    "            # shuffle the dataset\n",
    "            if shuffle:\n",
    "                perm = np.arange(self._num_examples)\n",
    "                np.random.shuffle(perm)\n",
    "                self._names = self._namearray[perm]\n",
    "                self._labels = self._all_labels[perm]\n",
    "            # start the new epoch\n",
    "            start = 0\n",
    "            self._index_in_epoch = batch_size - rest_num_examples\n",
    "            end = self._index_in_epoch\n",
    "            names_new_part = self._namearray[start:end]\n",
    "            labels_new_part = self._all_labels[start:end]\n",
    "            return_names = np.concatenate((names_rest_part,names_new_part),axis=0)\n",
    "            return_labels = np.concatenate((labels_rest_part,labels_new_part),axis=0)\n",
    "            return [np.array([find_correspondingImgs(item) for item in return_names]),\n",
    "                    return_labels]\n",
    "        else:\n",
    "            self._index_in_epoch += batch_size\n",
    "            end = self._index_in_epoch\n",
    "            self._data = np.array([find_correspondingImgs(item) for item in self._names[start:end]])\n",
    "            self._labels = self._all_labels[start:end]\n",
    "            return [self._data,self._labels]"
   ]
  },
  {
   "cell_type": "code",
   "execution_count": 6,
   "metadata": {},
   "outputs": [],
   "source": [
    "def read_namelist(namelist_filepath):\n",
    "    with open(namelist_filepath,'r') as f:\n",
    "        allnames = f.readlines()\n",
    "        return np.array([img(col.strip(),cpgSites_dirpath) for col in allnames])"
   ]
  },
  {
   "cell_type": "code",
   "execution_count": 7,
   "metadata": {},
   "outputs": [],
   "source": [
    "cpg_namelist_filepath = os.path.join(namelist_dirpath,'cpgnames.txt')\n",
    "cpg_namelist = read_namelist(cpg_namelist_filepath)\n",
    "gene_namelist_filepath = os.path.join(namelist_dirpath,'genenames.txt')\n",
    "gene_namelist = read_namelist(gene_namelist_filepath)"
   ]
  },
  {
   "cell_type": "code",
   "execution_count": 8,
   "metadata": {},
   "outputs": [
    {
     "name": "stdout",
     "output_type": "stream",
     "text": [
      "Raw data loaded with shape: (28454, 96)\n",
      "Data Normalized.\n",
      "Check the null values:\n",
      "Here are columns with NaN values:\n",
      "Check the loaded dataset: \n",
      " train with shape (21340, 72)\n",
      "test with shape: (7114, 72)\n"
     ]
    }
   ],
   "source": [
    "exclude = ['SNPChr','PValue','SNPChrPos','ProbeChr',\n",
    "           'ProbeCenterChrPos','CisTrans', 'SNPType', 'AlleleAssessed',\n",
    "           'DatasetsWhereSNPProbePairIsAvailableAndPassesQC',\n",
    "           'DatasetsZScores', 'DatasetsNrSamples',\n",
    "           'IncludedDatasetsMeanProbeExpression',\n",
    "           'IncludedDatasetsProbeExpressionVariance', 'HGNCName',\n",
    "           'IncludedDatasetsCorrelationCoefficient', 'Meta-Beta (SE)',\n",
    "           'Beta (SE)','FoldChange', 'FDR','checkChr',\n",
    "           'TssSite', 'chr','SNPName_ProbeName']\n",
    "keep = ['SNPName','ProbeName','OverallZScore']\n",
    "data = load_data(eqtm_path,keep=keep,exclude=exclude)"
   ]
  },
  {
   "cell_type": "code",
   "execution_count": 9,
   "metadata": {},
   "outputs": [
    {
     "name": "stdout",
     "output_type": "stream",
     "text": [
      "(50, 32, 127, 2) (50, 2)\n",
      "(50, 32, 127, 2) (50, 2)\n",
      "(50, 32, 127, 2) (50, 2)\n",
      "(50, 32, 127, 2) (50, 2)\n",
      "(50, 32, 127, 2) (50, 2)\n"
     ]
    }
   ],
   "source": [
    "test = iterlist(data.train.values[['SNPName','ProbeName']].values,data.train.labels)\n",
    "for ep in range(5):\n",
    "    print(test.next_batch(50)[0].shape,test.next_batch(50)[1].shape)"
   ]
  },
  {
   "cell_type": "code",
   "execution_count": null,
   "metadata": {},
   "outputs": [],
   "source": []
  },
  {
   "cell_type": "code",
   "execution_count": null,
   "metadata": {},
   "outputs": [],
   "source": []
  },
  {
   "cell_type": "code",
   "execution_count": null,
   "metadata": {},
   "outputs": [],
   "source": []
  },
  {
   "cell_type": "markdown",
   "metadata": {},
   "source": [
    "# record all cpg and gene paths... "
   ]
  },
  {
   "cell_type": "code",
   "execution_count": 8,
   "metadata": {},
   "outputs": [],
   "source": [
    "cpgnames = []\n",
    "for filename in os.listdir(cpgSites_dirpath):\n",
    "    if not filename.startswith('rearranged_matrix'):\n",
    "        cpgnames.append(filename[:-4])\n",
    "genenames = []\n",
    "for filename in os.listdir(geneSites_dirpath):\n",
    "    if not filename.startswith('rearranged_matrix'):\n",
    "        genenames.append(filename[:-4])\n",
    "\n",
    "with open(os.path.join(namelist_dirpath,'cpgnames.txt'),'w') as f:\n",
    "    f.write('\\n'.join(cpgnames))\n",
    "    f.close()\n",
    "with open(os.path.join(namelist_dirpath,'genenames.txt'),'w') as f:\n",
    "    f.write('\\n'.join(genenames))\n",
    "    f.close()"
   ]
  },
  {
   "cell_type": "markdown",
   "metadata": {},
   "source": [
    "# split from eqtm files"
   ]
  },
  {
   "cell_type": "code",
   "execution_count": 13,
   "metadata": {},
   "outputs": [],
   "source": [
    "def test_cnn(x_image):\n",
    "    def weight_variable(shape):\n",
    "        initial = tf.truncated_normal(shape, stddev=0.1)\n",
    "        return tf.Variable(initial)\n",
    "\n",
    "    def bias_variable(shape):\n",
    "        initial = tf.constant(0.1, shape=shape)\n",
    "        return tf.Variable(initial)\n",
    "\n",
    "    def conv2d(x, W):\n",
    "        return tf.nn.conv2d(x, W, strides=[1, 1, 1, 1], padding='SAME')\n",
    "\n",
    "    def max_pool_2x2(x):\n",
    "        return tf.nn.max_pool(x, ksize=[1, 2, 2, 1],\n",
    "                            strides=[1, 2, 2, 1], padding='SAME')\n",
    "\n",
    "    # first layer\n",
    "    W_conv1 = weight_variable([5, 5, 2, 32])\n",
    "    b_conv1 = bias_variable([32])\n",
    "    h_conv1 = tf.nn.relu(conv2d(x_image, W_conv1) + b_conv1)\n",
    "    h_pool1 = max_pool_2x2(h_conv1)\n",
    "    # second layer\n",
    "    W_conv2 = weight_variable([5, 5, 32, 32])\n",
    "    b_conv2 = bias_variable([32])\n",
    "    h_conv2 = tf.nn.relu(conv2d(h_pool1, W_conv2) + b_conv2)\n",
    "    h_pool2 = max_pool_2x2(h_conv2)\n",
    "\n",
    "    # fc layer\n",
    "    W_fc1 = weight_variable([8192,512])\n",
    "    b_fc1 = bias_variable([512])\n",
    "    h_pool2_flat = tf.reshape(h_pool2, [-1, 8192])\n",
    "    h_fc1 = tf.nn.relu(tf.matmul(h_pool2_flat, W_fc1) + b_fc1)\n",
    "\n",
    "    # drop out layer\n",
    "    keep_prob = tf.placeholder(tf.float32)\n",
    "    h_fc1_drop = tf.nn.dropout(h_fc1, keep_prob)\n",
    "\n",
    "    # readout layer\n",
    "    W_fc2 = weight_variable([512, 2])\n",
    "    b_fc2 = bias_variable([2])\n",
    "    y_conv = tf.matmul(h_fc1_drop, W_fc2) + b_fc2\n",
    "\n",
    "    return y_conv,keep_prob"
   ]
  },
  {
   "cell_type": "code",
   "execution_count": null,
   "metadata": {
    "scrolled": false
   },
   "outputs": [
    {
     "name": "stdout",
     "output_type": "stream",
     "text": [
      "step 0, training accuracy 0.56\n"
     ]
    }
   ],
   "source": [
    "# build the model\n",
    "x = tf.placeholder(tf.float32, shape=[None, 32, 127, 2])\n",
    "y_ = tf.placeholder(tf.float32, shape=[None, 2])\n",
    "y_conv,keep_prob = test_cnn(x)\n",
    "cross_entropy = tf.reduce_mean(\n",
    "    tf.nn.softmax_cross_entropy_with_logits(labels=y_, logits=y_conv))\n",
    "train_step = tf.train.AdamOptimizer(1e-4).minimize(cross_entropy)\n",
    "correct_prediction = tf.equal(tf.argmax(y_conv, 1), tf.argmax(y_, 1))\n",
    "accuracy = tf.reduce_mean(tf.cast(correct_prediction, tf.float32))\n",
    "\n",
    "# start training\n",
    "train_data = iterlist(data.train.values[['SNPName','ProbeName']].values,data.train.labels)\n",
    "test_data = iterlist(data.test.values[['SNPName','ProbeName']].values,data.test.labels)\n",
    "\n",
    "with tf.Session() as sess:\n",
    "    sess.run(tf.global_variables_initializer())\n",
    "    for i in range(20000):\n",
    "        batch = train_data.next_batch(50)\n",
    "        if i % 100 == 0:\n",
    "            train_accuracy = accuracy.eval(feed_dict={x: batch[0], \n",
    "                                                      y_: batch[1], \n",
    "                                                      keep_prob: 1.0})\n",
    "            print('step %d, training accuracy %g' % (i, train_accuracy))\n",
    "        train_step.run(feed_dict={x: batch[0], \n",
    "                                  y_: batch[1], \n",
    "                                  keep_prob: 0.5})\n",
    "        print(accuracy.eval(feed_dict={x: test_data.all_images(),y_: test_data.all_labels(),keep_prob: 1.0}))"
   ]
  },
  {
   "cell_type": "code",
   "execution_count": null,
   "metadata": {},
   "outputs": [],
   "source": []
  },
  {
   "cell_type": "code",
   "execution_count": null,
   "metadata": {},
   "outputs": [],
   "source": []
  },
  {
   "cell_type": "code",
   "execution_count": null,
   "metadata": {},
   "outputs": [],
   "source": []
  }
 ],
 "metadata": {
  "kernelspec": {
   "display_name": "Python 3",
   "language": "python",
   "name": "python3"
  },
  "language_info": {
   "codemirror_mode": {
    "name": "ipython",
    "version": 3
   },
   "file_extension": ".py",
   "mimetype": "text/x-python",
   "name": "python",
   "nbconvert_exporter": "python",
   "pygments_lexer": "ipython3",
   "version": "3.6.3"
  }
 },
 "nbformat": 4,
 "nbformat_minor": 2
}
